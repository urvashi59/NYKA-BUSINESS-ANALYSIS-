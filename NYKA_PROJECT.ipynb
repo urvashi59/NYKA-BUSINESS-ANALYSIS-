{
  "nbformat": 4,
  "nbformat_minor": 0,
  "metadata": {
    "colab": {
      "provenance": [],
      "mount_file_id": "1oONrD1PrrH_3tL_SrjtleO5m-6T7H5ke",
      "authorship_tag": "ABX9TyNkL2Sy6VpVr28YR61FB6pl",
      "include_colab_link": true
    },
    "kernelspec": {
      "name": "python3",
      "display_name": "Python 3"
    },
    "language_info": {
      "name": "python"
    }
  },
  "cells": [
    {
      "cell_type": "markdown",
      "metadata": {
        "id": "view-in-github",
        "colab_type": "text"
      },
      "source": [
        "<a href=\"https://colab.research.google.com/github/urvashi59/NYKA-BUSINESS-ANALYSIS-/blob/main/NYKA_PROJECT.ipynb\" target=\"_parent\"><img src=\"https://colab.research.google.com/assets/colab-badge.svg\" alt=\"Open In Colab\"/></a>"
      ]
    },
    {
      "cell_type": "markdown",
      "source": [
        "# ⏬ NYKA COSMETICS PRODUCT REVIEWS DATA ANALYSIS\n",
        "\n",
        "---\n",
        "\n",
        "\n",
        "# ⏩ SOURCE CODE :[NYKA PRODUCT REVIEWS DATASET](https://www.kaggle.com/datasets/jithinanievarghese/cosmetics-and-beauty-products-reviews-top-brands)\n",
        "\n",
        "\n",
        "# ⏩ PURPOSE :\n",
        "\n",
        "*    To analyze customer reviews of cosmetic products available on Nykaa, with the goal of extracting valuable insights into customer preferences, sentiment, product satisfaction, and overall brand perception.\n",
        "\n"
      ],
      "metadata": {
        "id": "mj_4TGM-KkUN"
      }
    },
    {
      "cell_type": "markdown",
      "source": [
        "# **⏩ IMPORT LIBRARIES**"
      ],
      "metadata": {
        "id": "cUovm9RwkHqr"
      }
    },
    {
      "cell_type": "code",
      "source": [
        "import pandas as pd\n",
        "import numpy as np\n",
        "import matplotlib.pyplot as plt\n",
        "import seaborn as sns\n",
        "import scipy as state\n",
        "import sklearn as sk"
      ],
      "metadata": {
        "id": "pkg2Tpdikm2g"
      },
      "execution_count": null,
      "outputs": []
    },
    {
      "cell_type": "markdown",
      "source": [
        "# **⏩ READ A DATASET**"
      ],
      "metadata": {
        "id": "FtCbKUSrk4i9"
      }
    },
    {
      "cell_type": "code",
      "source": [
        "nyka = pd.read_csv('/content/drive/MyDrive/DATASET/nyka_top_brands_cosmetics_product_reviews.csv (1).zip')\n",
        "nyka.head()"
      ],
      "metadata": {
        "id": "H9wQIyLzlByr",
        "colab": {
          "base_uri": "https://localhost:8080/",
          "height": 504
        },
        "outputId": "1e464a3a-3323-4f08-953b-0a123cd64eb3"
      },
      "execution_count": null,
      "outputs": [
        {
          "output_type": "execute_result",
          "data": {
            "text/plain": [
              "   product_id brand_name  review_id                         review_title  \\\n",
              "0      781070       Olay   16752142                 Worth buying 50g one   \n",
              "1      781070       Olay   14682550           Best cream to start ur day   \n",
              "2      781070       Olay   15618995  perfect for summers dry for winters   \n",
              "3      781070       Olay   13474509                    Not a moisturizer   \n",
              "4      781070       Olay   16338982                              Average   \n",
              "\n",
              "                                         review_text          author  \\\n",
              "0  Works as it claims. Could see the difference f...   Ashton Dsouza   \n",
              "1  It does what it claims . Best thing is it smoo...    Amrit Neelam   \n",
              "2  I have been using this product for months now....    Sanchi Gupta   \n",
              "3  i have an oily skin, while this whip acts as a...      Ruchi Shah   \n",
              "4  It's not that good. Please refresh try for oth...  Sukanya Sarkar   \n",
              "\n",
              "           review_date  review_rating  is_a_buyer  pro_user    review_label  \\\n",
              "0  2021-01-23 15:17:18            5.0        True     False  Verified Buyer   \n",
              "1  2020-09-07 15:30:42            5.0        True     False  Verified Buyer   \n",
              "2  2020-11-13 12:24:14            4.0        True     False  Verified Buyer   \n",
              "3  2020-06-14 11:56:50            3.0        True     False  Verified Buyer   \n",
              "4  2020-12-22 15:24:35            2.0        True     False  Verified Buyer   \n",
              "\n",
              "                                       product_title   mrp  price  \\\n",
              "0  Olay Ultra Lightweight Moisturiser: Luminous W...  1999   1599   \n",
              "1  Olay Ultra Lightweight Moisturiser: Luminous W...  1999   1599   \n",
              "2  Olay Ultra Lightweight Moisturiser: Luminous W...  1999   1599   \n",
              "3  Olay Ultra Lightweight Moisturiser: Luminous W...  1999   1599   \n",
              "4  Olay Ultra Lightweight Moisturiser: Luminous W...  1999   1599   \n",
              "\n",
              "   product_rating  product_rating_count product_tags  \\\n",
              "0             4.1                    43          NaN   \n",
              "1             4.1                    43          NaN   \n",
              "2             4.1                    43          NaN   \n",
              "3             4.1                    43          NaN   \n",
              "4             4.1                    43          NaN   \n",
              "\n",
              "                                         product_url  \n",
              "0  https://www.nykaa.com/olay-ultra-lightweight-m...  \n",
              "1  https://www.nykaa.com/olay-ultra-lightweight-m...  \n",
              "2  https://www.nykaa.com/olay-ultra-lightweight-m...  \n",
              "3  https://www.nykaa.com/olay-ultra-lightweight-m...  \n",
              "4  https://www.nykaa.com/olay-ultra-lightweight-m...  "
            ],
            "text/html": [
              "\n",
              "  <div id=\"df-48b958e6-9122-4527-8cb4-53bb960eec9f\" class=\"colab-df-container\">\n",
              "    <div>\n",
              "<style scoped>\n",
              "    .dataframe tbody tr th:only-of-type {\n",
              "        vertical-align: middle;\n",
              "    }\n",
              "\n",
              "    .dataframe tbody tr th {\n",
              "        vertical-align: top;\n",
              "    }\n",
              "\n",
              "    .dataframe thead th {\n",
              "        text-align: right;\n",
              "    }\n",
              "</style>\n",
              "<table border=\"1\" class=\"dataframe\">\n",
              "  <thead>\n",
              "    <tr style=\"text-align: right;\">\n",
              "      <th></th>\n",
              "      <th>product_id</th>\n",
              "      <th>brand_name</th>\n",
              "      <th>review_id</th>\n",
              "      <th>review_title</th>\n",
              "      <th>review_text</th>\n",
              "      <th>author</th>\n",
              "      <th>review_date</th>\n",
              "      <th>review_rating</th>\n",
              "      <th>is_a_buyer</th>\n",
              "      <th>pro_user</th>\n",
              "      <th>review_label</th>\n",
              "      <th>product_title</th>\n",
              "      <th>mrp</th>\n",
              "      <th>price</th>\n",
              "      <th>product_rating</th>\n",
              "      <th>product_rating_count</th>\n",
              "      <th>product_tags</th>\n",
              "      <th>product_url</th>\n",
              "    </tr>\n",
              "  </thead>\n",
              "  <tbody>\n",
              "    <tr>\n",
              "      <th>0</th>\n",
              "      <td>781070</td>\n",
              "      <td>Olay</td>\n",
              "      <td>16752142</td>\n",
              "      <td>Worth buying 50g one</td>\n",
              "      <td>Works as it claims. Could see the difference f...</td>\n",
              "      <td>Ashton Dsouza</td>\n",
              "      <td>2021-01-23 15:17:18</td>\n",
              "      <td>5.0</td>\n",
              "      <td>True</td>\n",
              "      <td>False</td>\n",
              "      <td>Verified Buyer</td>\n",
              "      <td>Olay Ultra Lightweight Moisturiser: Luminous W...</td>\n",
              "      <td>1999</td>\n",
              "      <td>1599</td>\n",
              "      <td>4.1</td>\n",
              "      <td>43</td>\n",
              "      <td>NaN</td>\n",
              "      <td>https://www.nykaa.com/olay-ultra-lightweight-m...</td>\n",
              "    </tr>\n",
              "    <tr>\n",
              "      <th>1</th>\n",
              "      <td>781070</td>\n",
              "      <td>Olay</td>\n",
              "      <td>14682550</td>\n",
              "      <td>Best cream to start ur day</td>\n",
              "      <td>It does what it claims . Best thing is it smoo...</td>\n",
              "      <td>Amrit Neelam</td>\n",
              "      <td>2020-09-07 15:30:42</td>\n",
              "      <td>5.0</td>\n",
              "      <td>True</td>\n",
              "      <td>False</td>\n",
              "      <td>Verified Buyer</td>\n",
              "      <td>Olay Ultra Lightweight Moisturiser: Luminous W...</td>\n",
              "      <td>1999</td>\n",
              "      <td>1599</td>\n",
              "      <td>4.1</td>\n",
              "      <td>43</td>\n",
              "      <td>NaN</td>\n",
              "      <td>https://www.nykaa.com/olay-ultra-lightweight-m...</td>\n",
              "    </tr>\n",
              "    <tr>\n",
              "      <th>2</th>\n",
              "      <td>781070</td>\n",
              "      <td>Olay</td>\n",
              "      <td>15618995</td>\n",
              "      <td>perfect for summers dry for winters</td>\n",
              "      <td>I have been using this product for months now....</td>\n",
              "      <td>Sanchi Gupta</td>\n",
              "      <td>2020-11-13 12:24:14</td>\n",
              "      <td>4.0</td>\n",
              "      <td>True</td>\n",
              "      <td>False</td>\n",
              "      <td>Verified Buyer</td>\n",
              "      <td>Olay Ultra Lightweight Moisturiser: Luminous W...</td>\n",
              "      <td>1999</td>\n",
              "      <td>1599</td>\n",
              "      <td>4.1</td>\n",
              "      <td>43</td>\n",
              "      <td>NaN</td>\n",
              "      <td>https://www.nykaa.com/olay-ultra-lightweight-m...</td>\n",
              "    </tr>\n",
              "    <tr>\n",
              "      <th>3</th>\n",
              "      <td>781070</td>\n",
              "      <td>Olay</td>\n",
              "      <td>13474509</td>\n",
              "      <td>Not a moisturizer</td>\n",
              "      <td>i have an oily skin, while this whip acts as a...</td>\n",
              "      <td>Ruchi Shah</td>\n",
              "      <td>2020-06-14 11:56:50</td>\n",
              "      <td>3.0</td>\n",
              "      <td>True</td>\n",
              "      <td>False</td>\n",
              "      <td>Verified Buyer</td>\n",
              "      <td>Olay Ultra Lightweight Moisturiser: Luminous W...</td>\n",
              "      <td>1999</td>\n",
              "      <td>1599</td>\n",
              "      <td>4.1</td>\n",
              "      <td>43</td>\n",
              "      <td>NaN</td>\n",
              "      <td>https://www.nykaa.com/olay-ultra-lightweight-m...</td>\n",
              "    </tr>\n",
              "    <tr>\n",
              "      <th>4</th>\n",
              "      <td>781070</td>\n",
              "      <td>Olay</td>\n",
              "      <td>16338982</td>\n",
              "      <td>Average</td>\n",
              "      <td>It's not that good. Please refresh try for oth...</td>\n",
              "      <td>Sukanya Sarkar</td>\n",
              "      <td>2020-12-22 15:24:35</td>\n",
              "      <td>2.0</td>\n",
              "      <td>True</td>\n",
              "      <td>False</td>\n",
              "      <td>Verified Buyer</td>\n",
              "      <td>Olay Ultra Lightweight Moisturiser: Luminous W...</td>\n",
              "      <td>1999</td>\n",
              "      <td>1599</td>\n",
              "      <td>4.1</td>\n",
              "      <td>43</td>\n",
              "      <td>NaN</td>\n",
              "      <td>https://www.nykaa.com/olay-ultra-lightweight-m...</td>\n",
              "    </tr>\n",
              "  </tbody>\n",
              "</table>\n",
              "</div>\n",
              "    <div class=\"colab-df-buttons\">\n",
              "\n",
              "  <div class=\"colab-df-container\">\n",
              "    <button class=\"colab-df-convert\" onclick=\"convertToInteractive('df-48b958e6-9122-4527-8cb4-53bb960eec9f')\"\n",
              "            title=\"Convert this dataframe to an interactive table.\"\n",
              "            style=\"display:none;\">\n",
              "\n",
              "  <svg xmlns=\"http://www.w3.org/2000/svg\" height=\"24px\" viewBox=\"0 -960 960 960\">\n",
              "    <path d=\"M120-120v-720h720v720H120Zm60-500h600v-160H180v160Zm220 220h160v-160H400v160Zm0 220h160v-160H400v160ZM180-400h160v-160H180v160Zm440 0h160v-160H620v160ZM180-180h160v-160H180v160Zm440 0h160v-160H620v160Z\"/>\n",
              "  </svg>\n",
              "    </button>\n",
              "\n",
              "  <style>\n",
              "    .colab-df-container {\n",
              "      display:flex;\n",
              "      gap: 12px;\n",
              "    }\n",
              "\n",
              "    .colab-df-convert {\n",
              "      background-color: #E8F0FE;\n",
              "      border: none;\n",
              "      border-radius: 50%;\n",
              "      cursor: pointer;\n",
              "      display: none;\n",
              "      fill: #1967D2;\n",
              "      height: 32px;\n",
              "      padding: 0 0 0 0;\n",
              "      width: 32px;\n",
              "    }\n",
              "\n",
              "    .colab-df-convert:hover {\n",
              "      background-color: #E2EBFA;\n",
              "      box-shadow: 0px 1px 2px rgba(60, 64, 67, 0.3), 0px 1px 3px 1px rgba(60, 64, 67, 0.15);\n",
              "      fill: #174EA6;\n",
              "    }\n",
              "\n",
              "    .colab-df-buttons div {\n",
              "      margin-bottom: 4px;\n",
              "    }\n",
              "\n",
              "    [theme=dark] .colab-df-convert {\n",
              "      background-color: #3B4455;\n",
              "      fill: #D2E3FC;\n",
              "    }\n",
              "\n",
              "    [theme=dark] .colab-df-convert:hover {\n",
              "      background-color: #434B5C;\n",
              "      box-shadow: 0px 1px 3px 1px rgba(0, 0, 0, 0.15);\n",
              "      filter: drop-shadow(0px 1px 2px rgba(0, 0, 0, 0.3));\n",
              "      fill: #FFFFFF;\n",
              "    }\n",
              "  </style>\n",
              "\n",
              "    <script>\n",
              "      const buttonEl =\n",
              "        document.querySelector('#df-48b958e6-9122-4527-8cb4-53bb960eec9f button.colab-df-convert');\n",
              "      buttonEl.style.display =\n",
              "        google.colab.kernel.accessAllowed ? 'block' : 'none';\n",
              "\n",
              "      async function convertToInteractive(key) {\n",
              "        const element = document.querySelector('#df-48b958e6-9122-4527-8cb4-53bb960eec9f');\n",
              "        const dataTable =\n",
              "          await google.colab.kernel.invokeFunction('convertToInteractive',\n",
              "                                                    [key], {});\n",
              "        if (!dataTable) return;\n",
              "\n",
              "        const docLinkHtml = 'Like what you see? Visit the ' +\n",
              "          '<a target=\"_blank\" href=https://colab.research.google.com/notebooks/data_table.ipynb>data table notebook</a>'\n",
              "          + ' to learn more about interactive tables.';\n",
              "        element.innerHTML = '';\n",
              "        dataTable['output_type'] = 'display_data';\n",
              "        await google.colab.output.renderOutput(dataTable, element);\n",
              "        const docLink = document.createElement('div');\n",
              "        docLink.innerHTML = docLinkHtml;\n",
              "        element.appendChild(docLink);\n",
              "      }\n",
              "    </script>\n",
              "  </div>\n",
              "\n",
              "\n",
              "<div id=\"df-cad9c7d4-e502-4cf9-b552-c812ee5d6843\">\n",
              "  <button class=\"colab-df-quickchart\" onclick=\"quickchart('df-cad9c7d4-e502-4cf9-b552-c812ee5d6843')\"\n",
              "            title=\"Suggest charts\"\n",
              "            style=\"display:none;\">\n",
              "\n",
              "<svg xmlns=\"http://www.w3.org/2000/svg\" height=\"24px\"viewBox=\"0 0 24 24\"\n",
              "     width=\"24px\">\n",
              "    <g>\n",
              "        <path d=\"M19 3H5c-1.1 0-2 .9-2 2v14c0 1.1.9 2 2 2h14c1.1 0 2-.9 2-2V5c0-1.1-.9-2-2-2zM9 17H7v-7h2v7zm4 0h-2V7h2v10zm4 0h-2v-4h2v4z\"/>\n",
              "    </g>\n",
              "</svg>\n",
              "  </button>\n",
              "\n",
              "<style>\n",
              "  .colab-df-quickchart {\n",
              "      --bg-color: #E8F0FE;\n",
              "      --fill-color: #1967D2;\n",
              "      --hover-bg-color: #E2EBFA;\n",
              "      --hover-fill-color: #174EA6;\n",
              "      --disabled-fill-color: #AAA;\n",
              "      --disabled-bg-color: #DDD;\n",
              "  }\n",
              "\n",
              "  [theme=dark] .colab-df-quickchart {\n",
              "      --bg-color: #3B4455;\n",
              "      --fill-color: #D2E3FC;\n",
              "      --hover-bg-color: #434B5C;\n",
              "      --hover-fill-color: #FFFFFF;\n",
              "      --disabled-bg-color: #3B4455;\n",
              "      --disabled-fill-color: #666;\n",
              "  }\n",
              "\n",
              "  .colab-df-quickchart {\n",
              "    background-color: var(--bg-color);\n",
              "    border: none;\n",
              "    border-radius: 50%;\n",
              "    cursor: pointer;\n",
              "    display: none;\n",
              "    fill: var(--fill-color);\n",
              "    height: 32px;\n",
              "    padding: 0;\n",
              "    width: 32px;\n",
              "  }\n",
              "\n",
              "  .colab-df-quickchart:hover {\n",
              "    background-color: var(--hover-bg-color);\n",
              "    box-shadow: 0 1px 2px rgba(60, 64, 67, 0.3), 0 1px 3px 1px rgba(60, 64, 67, 0.15);\n",
              "    fill: var(--button-hover-fill-color);\n",
              "  }\n",
              "\n",
              "  .colab-df-quickchart-complete:disabled,\n",
              "  .colab-df-quickchart-complete:disabled:hover {\n",
              "    background-color: var(--disabled-bg-color);\n",
              "    fill: var(--disabled-fill-color);\n",
              "    box-shadow: none;\n",
              "  }\n",
              "\n",
              "  .colab-df-spinner {\n",
              "    border: 2px solid var(--fill-color);\n",
              "    border-color: transparent;\n",
              "    border-bottom-color: var(--fill-color);\n",
              "    animation:\n",
              "      spin 1s steps(1) infinite;\n",
              "  }\n",
              "\n",
              "  @keyframes spin {\n",
              "    0% {\n",
              "      border-color: transparent;\n",
              "      border-bottom-color: var(--fill-color);\n",
              "      border-left-color: var(--fill-color);\n",
              "    }\n",
              "    20% {\n",
              "      border-color: transparent;\n",
              "      border-left-color: var(--fill-color);\n",
              "      border-top-color: var(--fill-color);\n",
              "    }\n",
              "    30% {\n",
              "      border-color: transparent;\n",
              "      border-left-color: var(--fill-color);\n",
              "      border-top-color: var(--fill-color);\n",
              "      border-right-color: var(--fill-color);\n",
              "    }\n",
              "    40% {\n",
              "      border-color: transparent;\n",
              "      border-right-color: var(--fill-color);\n",
              "      border-top-color: var(--fill-color);\n",
              "    }\n",
              "    60% {\n",
              "      border-color: transparent;\n",
              "      border-right-color: var(--fill-color);\n",
              "    }\n",
              "    80% {\n",
              "      border-color: transparent;\n",
              "      border-right-color: var(--fill-color);\n",
              "      border-bottom-color: var(--fill-color);\n",
              "    }\n",
              "    90% {\n",
              "      border-color: transparent;\n",
              "      border-bottom-color: var(--fill-color);\n",
              "    }\n",
              "  }\n",
              "</style>\n",
              "\n",
              "  <script>\n",
              "    async function quickchart(key) {\n",
              "      const quickchartButtonEl =\n",
              "        document.querySelector('#' + key + ' button');\n",
              "      quickchartButtonEl.disabled = true;  // To prevent multiple clicks.\n",
              "      quickchartButtonEl.classList.add('colab-df-spinner');\n",
              "      try {\n",
              "        const charts = await google.colab.kernel.invokeFunction(\n",
              "            'suggestCharts', [key], {});\n",
              "      } catch (error) {\n",
              "        console.error('Error during call to suggestCharts:', error);\n",
              "      }\n",
              "      quickchartButtonEl.classList.remove('colab-df-spinner');\n",
              "      quickchartButtonEl.classList.add('colab-df-quickchart-complete');\n",
              "    }\n",
              "    (() => {\n",
              "      let quickchartButtonEl =\n",
              "        document.querySelector('#df-cad9c7d4-e502-4cf9-b552-c812ee5d6843 button');\n",
              "      quickchartButtonEl.style.display =\n",
              "        google.colab.kernel.accessAllowed ? 'block' : 'none';\n",
              "    })();\n",
              "  </script>\n",
              "</div>\n",
              "\n",
              "    </div>\n",
              "  </div>\n"
            ],
            "application/vnd.google.colaboratory.intrinsic+json": {
              "type": "dataframe",
              "variable_name": "nyka",
              "summary": "{\n  \"name\": \"nyka\",\n  \"rows\": 61284,\n  \"fields\": [\n    {\n      \"column\": \"product_id\",\n      \"properties\": {\n        \"dtype\": \"number\",\n        \"std\": 1281418,\n        \"min\": 250,\n        \"max\": 7749427,\n        \"num_unique_values\": 295,\n        \"samples\": [\n          4719645,\n          1181100,\n          564441\n        ],\n        \"semantic_type\": \"\",\n        \"description\": \"\"\n      }\n    },\n    {\n      \"column\": \"brand_name\",\n      \"properties\": {\n        \"dtype\": \"category\",\n        \"num_unique_values\": 11,\n        \"samples\": [\n          \"Maybelline New York\",\n          \"Olay\",\n          \"Herbal Essences\"\n        ],\n        \"semantic_type\": \"\",\n        \"description\": \"\"\n      }\n    },\n    {\n      \"column\": \"review_id\",\n      \"properties\": {\n        \"dtype\": \"number\",\n        \"std\": 7383506,\n        \"min\": 96,\n        \"max\": 29630308,\n        \"num_unique_values\": 61284,\n        \"samples\": [\n          21482666,\n          13955613,\n          26663193\n        ],\n        \"semantic_type\": \"\",\n        \"description\": \"\"\n      }\n    },\n    {\n      \"column\": \"review_title\",\n      \"properties\": {\n        \"dtype\": \"category\",\n        \"num_unique_values\": 29559,\n        \"samples\": [\n          \"So good effect\",\n          \"Worst and low quality product\",\n          \"Nykaa oh my brow eyebrows\"\n        ],\n        \"semantic_type\": \"\",\n        \"description\": \"\"\n      }\n    },\n    {\n      \"column\": \"review_text\",\n      \"properties\": {\n        \"dtype\": \"string\",\n        \"num_unique_values\": 59831,\n        \"samples\": [\n          \"The shade of the contour is very light, i like the highlight but not the contour .if you want a dewy base then after priming first apply this and blend , apply foundation lightly and then you may once again apply this light handed and blend it in It'll give you a naturally glowing look\",\n          \"Its has the best color and the best moisture. I had bought 5 lipsticks cannot stop using it\",\n          \"A must have product\"\n        ],\n        \"semantic_type\": \"\",\n        \"description\": \"\"\n      }\n    },\n    {\n      \"column\": \"author\",\n      \"properties\": {\n        \"dtype\": \"string\",\n        \"num_unique_values\": 41669,\n        \"samples\": [\n          \"Farheen Khader\",\n          \"Khyati Goswami\",\n          \"nimisha rastogi\"\n        ],\n        \"semantic_type\": \"\",\n        \"description\": \"\"\n      }\n    },\n    {\n      \"column\": \"review_date\",\n      \"properties\": {\n        \"dtype\": \"object\",\n        \"num_unique_values\": 61212,\n        \"samples\": [\n          \"2020-06-25 16:12:53\",\n          \"2022-06-12 20:41:54\",\n          \"2021-10-20 23:21:44\"\n        ],\n        \"semantic_type\": \"\",\n        \"description\": \"\"\n      }\n    },\n    {\n      \"column\": \"review_rating\",\n      \"properties\": {\n        \"dtype\": \"number\",\n        \"std\": 1.0625465257445987,\n        \"min\": 1.0,\n        \"max\": 5.0,\n        \"num_unique_values\": 5,\n        \"samples\": [\n          4.0,\n          1.0,\n          3.0\n        ],\n        \"semantic_type\": \"\",\n        \"description\": \"\"\n      }\n    },\n    {\n      \"column\": \"is_a_buyer\",\n      \"properties\": {\n        \"dtype\": \"boolean\",\n        \"num_unique_values\": 2,\n        \"samples\": [\n          false,\n          true\n        ],\n        \"semantic_type\": \"\",\n        \"description\": \"\"\n      }\n    },\n    {\n      \"column\": \"pro_user\",\n      \"properties\": {\n        \"dtype\": \"boolean\",\n        \"num_unique_values\": 2,\n        \"samples\": [\n          true,\n          false\n        ],\n        \"semantic_type\": \"\",\n        \"description\": \"\"\n      }\n    },\n    {\n      \"column\": \"review_label\",\n      \"properties\": {\n        \"dtype\": \"category\",\n        \"num_unique_values\": 2,\n        \"samples\": [\n          \"Verified Professional\",\n          \"Verified Buyer\"\n        ],\n        \"semantic_type\": \"\",\n        \"description\": \"\"\n      }\n    },\n    {\n      \"column\": \"product_title\",\n      \"properties\": {\n        \"dtype\": \"category\",\n        \"num_unique_values\": 292,\n        \"samples\": [\n          \"Nykaa Lash Talk False Eyelash\",\n          \"Kay Beauty Eyeshadow Palette\"\n        ],\n        \"semantic_type\": \"\",\n        \"description\": \"\"\n      }\n    },\n    {\n      \"column\": \"mrp\",\n      \"properties\": {\n        \"dtype\": \"number\",\n        \"std\": 324,\n        \"min\": 75,\n        \"max\": 3874,\n        \"num_unique_values\": 133,\n        \"samples\": [\n          625,\n          349\n        ],\n        \"semantic_type\": \"\",\n        \"description\": \"\"\n      }\n    },\n    {\n      \"column\": \"price\",\n      \"properties\": {\n        \"dtype\": \"number\",\n        \"std\": 264,\n        \"min\": 45,\n        \"max\": 2947,\n        \"num_unique_values\": 175,\n        \"samples\": [\n          356,\n          990\n        ],\n        \"semantic_type\": \"\",\n        \"description\": \"\"\n      }\n    },\n    {\n      \"column\": \"product_rating\",\n      \"properties\": {\n        \"dtype\": \"number\",\n        \"std\": 0.23594487541520212,\n        \"min\": 1.5,\n        \"max\": 4.8,\n        \"num_unique_values\": 22,\n        \"samples\": [\n          4.1,\n          4.4\n        ],\n        \"semantic_type\": \"\",\n        \"description\": \"\"\n      }\n    },\n    {\n      \"column\": \"product_rating_count\",\n      \"properties\": {\n        \"dtype\": \"number\",\n        \"std\": 14463,\n        \"min\": 1,\n        \"max\": 98477,\n        \"num_unique_values\": 227,\n        \"samples\": [\n          8212,\n          763\n        ],\n        \"semantic_type\": \"\",\n        \"description\": \"\"\n      }\n    },\n    {\n      \"column\": \"product_tags\",\n      \"properties\": {\n        \"dtype\": \"category\",\n        \"num_unique_values\": 5,\n        \"samples\": [\n          \"BESTSELLER\",\n          \"FEATURED, NEW\"\n        ],\n        \"semantic_type\": \"\",\n        \"description\": \"\"\n      }\n    },\n    {\n      \"column\": \"product_url\",\n      \"properties\": {\n        \"dtype\": \"category\",\n        \"num_unique_values\": 295,\n        \"samples\": [\n          \"https://www.nykaa.com/herbal-essences-strawberry-shampoo-conditioner-for-voluminous-hair-no-parabens-no-colourants/p/4719645\",\n          \"https://www.nykaa.com/nykaa-serial-kisser-strawberry-raspberry-lip-balm-combo/p/1181100\"\n        ],\n        \"semantic_type\": \"\",\n        \"description\": \"\"\n      }\n    }\n  ]\n}"
            }
          },
          "metadata": {},
          "execution_count": 6
        }
      ]
    },
    {
      "cell_type": "markdown",
      "source": [
        "# **⏩ BASIC INFORMATION OF DATASET**"
      ],
      "metadata": {
        "id": "RF__8jNOntAE"
      }
    },
    {
      "cell_type": "code",
      "source": [
        "#TOTAL RECORDS AND VARIABLES\n",
        "nyka.shape"
      ],
      "metadata": {
        "colab": {
          "base_uri": "https://localhost:8080/"
        },
        "id": "YXY205GNnqld",
        "outputId": "798f351e-4327-4494-86f4-99174c0770b9"
      },
      "execution_count": null,
      "outputs": [
        {
          "output_type": "execute_result",
          "data": {
            "text/plain": [
              "(61284, 18)"
            ]
          },
          "metadata": {},
          "execution_count": 7
        }
      ]
    },
    {
      "cell_type": "code",
      "source": [
        "#TOTAL SIZE OF DATASET\n",
        "nyka.size"
      ],
      "metadata": {
        "colab": {
          "base_uri": "https://localhost:8080/"
        },
        "id": "414n0apGoRyO",
        "outputId": "93e01fa1-d49a-4a4d-a456-fee9d8ca9043"
      },
      "execution_count": null,
      "outputs": [
        {
          "output_type": "execute_result",
          "data": {
            "text/plain": [
              "1103112"
            ]
          },
          "metadata": {},
          "execution_count": 8
        }
      ]
    },
    {
      "cell_type": "code",
      "source": [
        "nyka.info()"
      ],
      "metadata": {
        "colab": {
          "base_uri": "https://localhost:8080/"
        },
        "id": "YI7C_IGDoWAp",
        "outputId": "93f7a9ec-a350-4594-a099-4b0ce4419874"
      },
      "execution_count": null,
      "outputs": [
        {
          "output_type": "stream",
          "name": "stdout",
          "text": [
            "<class 'pandas.core.frame.DataFrame'>\n",
            "RangeIndex: 61284 entries, 0 to 61283\n",
            "Data columns (total 18 columns):\n",
            " #   Column                Non-Null Count  Dtype  \n",
            "---  ------                --------------  -----  \n",
            " 0   product_id            61284 non-null  int64  \n",
            " 1   brand_name            61284 non-null  object \n",
            " 2   review_id             61284 non-null  int64  \n",
            " 3   review_title          61284 non-null  object \n",
            " 4   review_text           61275 non-null  object \n",
            " 5   author                61284 non-null  object \n",
            " 6   review_date           61284 non-null  object \n",
            " 7   review_rating         61283 non-null  float64\n",
            " 8   is_a_buyer            61284 non-null  bool   \n",
            " 9   pro_user              61284 non-null  bool   \n",
            " 10  review_label          48249 non-null  object \n",
            " 11  product_title         61284 non-null  object \n",
            " 12  mrp                   61284 non-null  int64  \n",
            " 13  price                 61284 non-null  int64  \n",
            " 14  product_rating        61284 non-null  float64\n",
            " 15  product_rating_count  61284 non-null  int64  \n",
            " 16  product_tags          13502 non-null  object \n",
            " 17  product_url           61284 non-null  object \n",
            "dtypes: bool(2), float64(2), int64(5), object(9)\n",
            "memory usage: 7.6+ MB\n"
          ]
        }
      ]
    },
    {
      "cell_type": "code",
      "source": [
        "#TOTAL COLUMNS OF DATASET\n",
        "nyka.columns"
      ],
      "metadata": {
        "colab": {
          "base_uri": "https://localhost:8080/"
        },
        "id": "p0dXB02flol2",
        "outputId": "93163622-c767-4102-ba3b-c92f8889d3de"
      },
      "execution_count": null,
      "outputs": [
        {
          "output_type": "execute_result",
          "data": {
            "text/plain": [
              "Index(['product_id', 'brand_name', 'review_id', 'review_title', 'review_text',\n",
              "       'author', 'review_date', 'review_rating', 'is_a_buyer', 'pro_user',\n",
              "       'review_label', 'product_title', 'mrp', 'price', 'product_rating',\n",
              "       'product_rating_count', 'product_tags', 'product_url'],\n",
              "      dtype='object')"
            ]
          },
          "metadata": {},
          "execution_count": 10
        }
      ]
    },
    {
      "cell_type": "code",
      "source": [
        "\"\"\"\n",
        "\n",
        "CONCLUSION:\n",
        "-->There are 61284 records and 18 columns in nyka product reviews dataset.\n",
        "-->We can see unwanted columns like review_id,review_title,author,pro_user,product_url,product_tags.\n",
        "---> So we can re`move these columns on next step.\n",
        "\n",
        "\"\"\""
      ],
      "metadata": {
        "id": "48iFcQi8pmsi",
        "colab": {
          "base_uri": "https://localhost:8080/",
          "height": 70
        },
        "outputId": "1f611665-ab2e-476b-b1d9-f0c0c022e32e"
      },
      "execution_count": null,
      "outputs": [
        {
          "output_type": "execute_result",
          "data": {
            "text/plain": [
              "'\\n\\nCONCLUSION:\\n-->There are 61284 records and 18 columns in nyka product reviews dataset.\\n-->We can see unwanted columns like review_id,review_title,author,pro_user,product_url,product_tags.\\n---> So we can re`move these columns on next step.\\n\\n'"
            ],
            "application/vnd.google.colaboratory.intrinsic+json": {
              "type": "string"
            }
          },
          "metadata": {},
          "execution_count": 11
        }
      ]
    },
    {
      "cell_type": "code",
      "source": [
        "nyka.dtypes"
      ],
      "metadata": {
        "colab": {
          "base_uri": "https://localhost:8080/",
          "height": 648
        },
        "id": "rOZIJ_p8jqmS",
        "outputId": "5d123a1b-813f-4413-c2c2-23313ec12b28"
      },
      "execution_count": null,
      "outputs": [
        {
          "output_type": "execute_result",
          "data": {
            "text/plain": [
              "product_id                int64\n",
              "brand_name               object\n",
              "review_id                 int64\n",
              "review_title             object\n",
              "review_text              object\n",
              "author                   object\n",
              "review_date              object\n",
              "review_rating           float64\n",
              "is_a_buyer                 bool\n",
              "pro_user                   bool\n",
              "review_label             object\n",
              "product_title            object\n",
              "mrp                       int64\n",
              "price                     int64\n",
              "product_rating          float64\n",
              "product_rating_count      int64\n",
              "product_tags             object\n",
              "product_url              object\n",
              "dtype: object"
            ],
            "text/html": [
              "<div>\n",
              "<style scoped>\n",
              "    .dataframe tbody tr th:only-of-type {\n",
              "        vertical-align: middle;\n",
              "    }\n",
              "\n",
              "    .dataframe tbody tr th {\n",
              "        vertical-align: top;\n",
              "    }\n",
              "\n",
              "    .dataframe thead th {\n",
              "        text-align: right;\n",
              "    }\n",
              "</style>\n",
              "<table border=\"1\" class=\"dataframe\">\n",
              "  <thead>\n",
              "    <tr style=\"text-align: right;\">\n",
              "      <th></th>\n",
              "      <th>0</th>\n",
              "    </tr>\n",
              "  </thead>\n",
              "  <tbody>\n",
              "    <tr>\n",
              "      <th>product_id</th>\n",
              "      <td>int64</td>\n",
              "    </tr>\n",
              "    <tr>\n",
              "      <th>brand_name</th>\n",
              "      <td>object</td>\n",
              "    </tr>\n",
              "    <tr>\n",
              "      <th>review_id</th>\n",
              "      <td>int64</td>\n",
              "    </tr>\n",
              "    <tr>\n",
              "      <th>review_title</th>\n",
              "      <td>object</td>\n",
              "    </tr>\n",
              "    <tr>\n",
              "      <th>review_text</th>\n",
              "      <td>object</td>\n",
              "    </tr>\n",
              "    <tr>\n",
              "      <th>author</th>\n",
              "      <td>object</td>\n",
              "    </tr>\n",
              "    <tr>\n",
              "      <th>review_date</th>\n",
              "      <td>object</td>\n",
              "    </tr>\n",
              "    <tr>\n",
              "      <th>review_rating</th>\n",
              "      <td>float64</td>\n",
              "    </tr>\n",
              "    <tr>\n",
              "      <th>is_a_buyer</th>\n",
              "      <td>bool</td>\n",
              "    </tr>\n",
              "    <tr>\n",
              "      <th>pro_user</th>\n",
              "      <td>bool</td>\n",
              "    </tr>\n",
              "    <tr>\n",
              "      <th>review_label</th>\n",
              "      <td>object</td>\n",
              "    </tr>\n",
              "    <tr>\n",
              "      <th>product_title</th>\n",
              "      <td>object</td>\n",
              "    </tr>\n",
              "    <tr>\n",
              "      <th>mrp</th>\n",
              "      <td>int64</td>\n",
              "    </tr>\n",
              "    <tr>\n",
              "      <th>price</th>\n",
              "      <td>int64</td>\n",
              "    </tr>\n",
              "    <tr>\n",
              "      <th>product_rating</th>\n",
              "      <td>float64</td>\n",
              "    </tr>\n",
              "    <tr>\n",
              "      <th>product_rating_count</th>\n",
              "      <td>int64</td>\n",
              "    </tr>\n",
              "    <tr>\n",
              "      <th>product_tags</th>\n",
              "      <td>object</td>\n",
              "    </tr>\n",
              "    <tr>\n",
              "      <th>product_url</th>\n",
              "      <td>object</td>\n",
              "    </tr>\n",
              "  </tbody>\n",
              "</table>\n",
              "</div><br><label><b>dtype:</b> object</label>"
            ]
          },
          "metadata": {},
          "execution_count": 12
        }
      ]
    },
    {
      "cell_type": "code",
      "source": [
        "nyka.dtypes.value_counts()"
      ],
      "metadata": {
        "colab": {
          "base_uri": "https://localhost:8080/",
          "height": 209
        },
        "id": "p4ghOPuEiwV1",
        "outputId": "4281ba08-6a41-42cb-f11b-a8260b4ff43a"
      },
      "execution_count": null,
      "outputs": [
        {
          "output_type": "execute_result",
          "data": {
            "text/plain": [
              "object     9\n",
              "int64      5\n",
              "float64    2\n",
              "bool       2\n",
              "Name: count, dtype: int64"
            ],
            "text/html": [
              "<div>\n",
              "<style scoped>\n",
              "    .dataframe tbody tr th:only-of-type {\n",
              "        vertical-align: middle;\n",
              "    }\n",
              "\n",
              "    .dataframe tbody tr th {\n",
              "        vertical-align: top;\n",
              "    }\n",
              "\n",
              "    .dataframe thead th {\n",
              "        text-align: right;\n",
              "    }\n",
              "</style>\n",
              "<table border=\"1\" class=\"dataframe\">\n",
              "  <thead>\n",
              "    <tr style=\"text-align: right;\">\n",
              "      <th></th>\n",
              "      <th>count</th>\n",
              "    </tr>\n",
              "  </thead>\n",
              "  <tbody>\n",
              "    <tr>\n",
              "      <th>object</th>\n",
              "      <td>9</td>\n",
              "    </tr>\n",
              "    <tr>\n",
              "      <th>int64</th>\n",
              "      <td>5</td>\n",
              "    </tr>\n",
              "    <tr>\n",
              "      <th>float64</th>\n",
              "      <td>2</td>\n",
              "    </tr>\n",
              "    <tr>\n",
              "      <th>bool</th>\n",
              "      <td>2</td>\n",
              "    </tr>\n",
              "  </tbody>\n",
              "</table>\n",
              "</div><br><label><b>dtype:</b> int64</label>"
            ]
          },
          "metadata": {},
          "execution_count": 13
        }
      ]
    },
    {
      "cell_type": "code",
      "source": [
        "\"\"\"\n",
        "\n",
        "Conclusion:\n",
        "--> There are four datatypes in this dataset:- object,int,float and bool\n",
        "\n",
        "\"\"\""
      ],
      "metadata": {
        "id": "-bQ13MhXkr-o",
        "colab": {
          "base_uri": "https://localhost:8080/",
          "height": 36
        },
        "outputId": "541727ba-6dc1-4807-8573-29680e397e77"
      },
      "execution_count": null,
      "outputs": [
        {
          "output_type": "execute_result",
          "data": {
            "text/plain": [
              "'\\n\\nConclusion:\\n--> There are four datatypes in this dataset:- object,int,float and bool\\n\\n'"
            ],
            "application/vnd.google.colaboratory.intrinsic+json": {
              "type": "string"
            }
          },
          "metadata": {},
          "execution_count": 14
        }
      ]
    },
    {
      "cell_type": "code",
      "source": [
        "#CHECK A NULL VALUE\n",
        "nyka.isnull().sum()"
      ],
      "metadata": {
        "colab": {
          "base_uri": "https://localhost:8080/",
          "height": 648
        },
        "id": "ZnehAVFdl28q",
        "outputId": "dad454e9-a9fc-4acd-d51c-678f3f659eb1"
      },
      "execution_count": null,
      "outputs": [
        {
          "output_type": "execute_result",
          "data": {
            "text/plain": [
              "product_id                  0\n",
              "brand_name                  0\n",
              "review_id                   0\n",
              "review_title                0\n",
              "review_text                 9\n",
              "author                      0\n",
              "review_date                 0\n",
              "review_rating               1\n",
              "is_a_buyer                  0\n",
              "pro_user                    0\n",
              "review_label            13035\n",
              "product_title               0\n",
              "mrp                         0\n",
              "price                       0\n",
              "product_rating              0\n",
              "product_rating_count        0\n",
              "product_tags            47782\n",
              "product_url                 0\n",
              "dtype: int64"
            ],
            "text/html": [
              "<div>\n",
              "<style scoped>\n",
              "    .dataframe tbody tr th:only-of-type {\n",
              "        vertical-align: middle;\n",
              "    }\n",
              "\n",
              "    .dataframe tbody tr th {\n",
              "        vertical-align: top;\n",
              "    }\n",
              "\n",
              "    .dataframe thead th {\n",
              "        text-align: right;\n",
              "    }\n",
              "</style>\n",
              "<table border=\"1\" class=\"dataframe\">\n",
              "  <thead>\n",
              "    <tr style=\"text-align: right;\">\n",
              "      <th></th>\n",
              "      <th>0</th>\n",
              "    </tr>\n",
              "  </thead>\n",
              "  <tbody>\n",
              "    <tr>\n",
              "      <th>product_id</th>\n",
              "      <td>0</td>\n",
              "    </tr>\n",
              "    <tr>\n",
              "      <th>brand_name</th>\n",
              "      <td>0</td>\n",
              "    </tr>\n",
              "    <tr>\n",
              "      <th>review_id</th>\n",
              "      <td>0</td>\n",
              "    </tr>\n",
              "    <tr>\n",
              "      <th>review_title</th>\n",
              "      <td>0</td>\n",
              "    </tr>\n",
              "    <tr>\n",
              "      <th>review_text</th>\n",
              "      <td>9</td>\n",
              "    </tr>\n",
              "    <tr>\n",
              "      <th>author</th>\n",
              "      <td>0</td>\n",
              "    </tr>\n",
              "    <tr>\n",
              "      <th>review_date</th>\n",
              "      <td>0</td>\n",
              "    </tr>\n",
              "    <tr>\n",
              "      <th>review_rating</th>\n",
              "      <td>1</td>\n",
              "    </tr>\n",
              "    <tr>\n",
              "      <th>is_a_buyer</th>\n",
              "      <td>0</td>\n",
              "    </tr>\n",
              "    <tr>\n",
              "      <th>pro_user</th>\n",
              "      <td>0</td>\n",
              "    </tr>\n",
              "    <tr>\n",
              "      <th>review_label</th>\n",
              "      <td>13035</td>\n",
              "    </tr>\n",
              "    <tr>\n",
              "      <th>product_title</th>\n",
              "      <td>0</td>\n",
              "    </tr>\n",
              "    <tr>\n",
              "      <th>mrp</th>\n",
              "      <td>0</td>\n",
              "    </tr>\n",
              "    <tr>\n",
              "      <th>price</th>\n",
              "      <td>0</td>\n",
              "    </tr>\n",
              "    <tr>\n",
              "      <th>product_rating</th>\n",
              "      <td>0</td>\n",
              "    </tr>\n",
              "    <tr>\n",
              "      <th>product_rating_count</th>\n",
              "      <td>0</td>\n",
              "    </tr>\n",
              "    <tr>\n",
              "      <th>product_tags</th>\n",
              "      <td>47782</td>\n",
              "    </tr>\n",
              "    <tr>\n",
              "      <th>product_url</th>\n",
              "      <td>0</td>\n",
              "    </tr>\n",
              "  </tbody>\n",
              "</table>\n",
              "</div><br><label><b>dtype:</b> int64</label>"
            ]
          },
          "metadata": {},
          "execution_count": 15
        }
      ]
    },
    {
      "cell_type": "code",
      "source": [
        "\"\"\"\n",
        "\n",
        "CONCLUSION:\n",
        "\n",
        "--> There are null value availabe in this column's review_text,review_rating,review_lable and product_tags.\n",
        "--. We can remove in next step\n",
        "\n",
        "\"\"\"\n",
        "\n"
      ],
      "metadata": {
        "id": "7zo5D_H5mPVA",
        "colab": {
          "base_uri": "https://localhost:8080/",
          "height": 53
        },
        "outputId": "ab65c0c3-7728-4348-ad9e-4939c5b4c217"
      },
      "execution_count": null,
      "outputs": [
        {
          "output_type": "execute_result",
          "data": {
            "text/plain": [
              "\"\\n\\nCONCLUSION:\\n\\n--> There are null value availabe in this column's review_text,review_rating,review_lable and product_tags.\\n--. We can remove in next step\\n\\n\""
            ],
            "application/vnd.google.colaboratory.intrinsic+json": {
              "type": "string"
            }
          },
          "metadata": {},
          "execution_count": 17
        }
      ]
    },
    {
      "cell_type": "code",
      "source": [
        "# CHECK DUPLICATE VALUE\n",
        "print(nyka.duplicated().sum())"
      ],
      "metadata": {
        "colab": {
          "base_uri": "https://localhost:8080/"
        },
        "id": "CaB2Htfuiy03",
        "outputId": "061b84d6-a2e7-44fc-f5e6-5287c0d210bf"
      },
      "execution_count": null,
      "outputs": [
        {
          "output_type": "stream",
          "name": "stdout",
          "text": [
            "0\n"
          ]
        }
      ]
    },
    {
      "cell_type": "markdown",
      "source": [
        "# **⏩ COPY AND CLEAN DATASET**"
      ],
      "metadata": {
        "id": "Eo6lVwMkj-9a"
      }
    },
    {
      "cell_type": "code",
      "source": [
        "#COPY DATASET FOR WORK\n",
        "nyka_copy = nyka.copy()\n",
        "nyka_copy.head()"
      ],
      "metadata": {
        "colab": {
          "base_uri": "https://localhost:8080/",
          "height": 504
        },
        "id": "tYAQKd0IkWG8",
        "outputId": "bb285391-5768-4488-c19f-70a86107a6dc"
      },
      "execution_count": null,
      "outputs": [
        {
          "output_type": "execute_result",
          "data": {
            "text/plain": [
              "   product_id brand_name  review_id                         review_title  \\\n",
              "0      781070       Olay   16752142                 Worth buying 50g one   \n",
              "1      781070       Olay   14682550           Best cream to start ur day   \n",
              "2      781070       Olay   15618995  perfect for summers dry for winters   \n",
              "3      781070       Olay   13474509                    Not a moisturizer   \n",
              "4      781070       Olay   16338982                              Average   \n",
              "\n",
              "                                         review_text          author  \\\n",
              "0  Works as it claims. Could see the difference f...   Ashton Dsouza   \n",
              "1  It does what it claims . Best thing is it smoo...    Amrit Neelam   \n",
              "2  I have been using this product for months now....    Sanchi Gupta   \n",
              "3  i have an oily skin, while this whip acts as a...      Ruchi Shah   \n",
              "4  It's not that good. Please refresh try for oth...  Sukanya Sarkar   \n",
              "\n",
              "           review_date  review_rating  is_a_buyer  pro_user    review_label  \\\n",
              "0  2021-01-23 15:17:18            5.0        True     False  Verified Buyer   \n",
              "1  2020-09-07 15:30:42            5.0        True     False  Verified Buyer   \n",
              "2  2020-11-13 12:24:14            4.0        True     False  Verified Buyer   \n",
              "3  2020-06-14 11:56:50            3.0        True     False  Verified Buyer   \n",
              "4  2020-12-22 15:24:35            2.0        True     False  Verified Buyer   \n",
              "\n",
              "                                       product_title   mrp  price  \\\n",
              "0  Olay Ultra Lightweight Moisturiser: Luminous W...  1999   1599   \n",
              "1  Olay Ultra Lightweight Moisturiser: Luminous W...  1999   1599   \n",
              "2  Olay Ultra Lightweight Moisturiser: Luminous W...  1999   1599   \n",
              "3  Olay Ultra Lightweight Moisturiser: Luminous W...  1999   1599   \n",
              "4  Olay Ultra Lightweight Moisturiser: Luminous W...  1999   1599   \n",
              "\n",
              "   product_rating  product_rating_count product_tags  \\\n",
              "0             4.1                    43          NaN   \n",
              "1             4.1                    43          NaN   \n",
              "2             4.1                    43          NaN   \n",
              "3             4.1                    43          NaN   \n",
              "4             4.1                    43          NaN   \n",
              "\n",
              "                                         product_url  \n",
              "0  https://www.nykaa.com/olay-ultra-lightweight-m...  \n",
              "1  https://www.nykaa.com/olay-ultra-lightweight-m...  \n",
              "2  https://www.nykaa.com/olay-ultra-lightweight-m...  \n",
              "3  https://www.nykaa.com/olay-ultra-lightweight-m...  \n",
              "4  https://www.nykaa.com/olay-ultra-lightweight-m...  "
            ],
            "text/html": [
              "\n",
              "  <div id=\"df-0daeaba8-a0b6-4274-8f49-7650678bdb37\" class=\"colab-df-container\">\n",
              "    <div>\n",
              "<style scoped>\n",
              "    .dataframe tbody tr th:only-of-type {\n",
              "        vertical-align: middle;\n",
              "    }\n",
              "\n",
              "    .dataframe tbody tr th {\n",
              "        vertical-align: top;\n",
              "    }\n",
              "\n",
              "    .dataframe thead th {\n",
              "        text-align: right;\n",
              "    }\n",
              "</style>\n",
              "<table border=\"1\" class=\"dataframe\">\n",
              "  <thead>\n",
              "    <tr style=\"text-align: right;\">\n",
              "      <th></th>\n",
              "      <th>product_id</th>\n",
              "      <th>brand_name</th>\n",
              "      <th>review_id</th>\n",
              "      <th>review_title</th>\n",
              "      <th>review_text</th>\n",
              "      <th>author</th>\n",
              "      <th>review_date</th>\n",
              "      <th>review_rating</th>\n",
              "      <th>is_a_buyer</th>\n",
              "      <th>pro_user</th>\n",
              "      <th>review_label</th>\n",
              "      <th>product_title</th>\n",
              "      <th>mrp</th>\n",
              "      <th>price</th>\n",
              "      <th>product_rating</th>\n",
              "      <th>product_rating_count</th>\n",
              "      <th>product_tags</th>\n",
              "      <th>product_url</th>\n",
              "    </tr>\n",
              "  </thead>\n",
              "  <tbody>\n",
              "    <tr>\n",
              "      <th>0</th>\n",
              "      <td>781070</td>\n",
              "      <td>Olay</td>\n",
              "      <td>16752142</td>\n",
              "      <td>Worth buying 50g one</td>\n",
              "      <td>Works as it claims. Could see the difference f...</td>\n",
              "      <td>Ashton Dsouza</td>\n",
              "      <td>2021-01-23 15:17:18</td>\n",
              "      <td>5.0</td>\n",
              "      <td>True</td>\n",
              "      <td>False</td>\n",
              "      <td>Verified Buyer</td>\n",
              "      <td>Olay Ultra Lightweight Moisturiser: Luminous W...</td>\n",
              "      <td>1999</td>\n",
              "      <td>1599</td>\n",
              "      <td>4.1</td>\n",
              "      <td>43</td>\n",
              "      <td>NaN</td>\n",
              "      <td>https://www.nykaa.com/olay-ultra-lightweight-m...</td>\n",
              "    </tr>\n",
              "    <tr>\n",
              "      <th>1</th>\n",
              "      <td>781070</td>\n",
              "      <td>Olay</td>\n",
              "      <td>14682550</td>\n",
              "      <td>Best cream to start ur day</td>\n",
              "      <td>It does what it claims . Best thing is it smoo...</td>\n",
              "      <td>Amrit Neelam</td>\n",
              "      <td>2020-09-07 15:30:42</td>\n",
              "      <td>5.0</td>\n",
              "      <td>True</td>\n",
              "      <td>False</td>\n",
              "      <td>Verified Buyer</td>\n",
              "      <td>Olay Ultra Lightweight Moisturiser: Luminous W...</td>\n",
              "      <td>1999</td>\n",
              "      <td>1599</td>\n",
              "      <td>4.1</td>\n",
              "      <td>43</td>\n",
              "      <td>NaN</td>\n",
              "      <td>https://www.nykaa.com/olay-ultra-lightweight-m...</td>\n",
              "    </tr>\n",
              "    <tr>\n",
              "      <th>2</th>\n",
              "      <td>781070</td>\n",
              "      <td>Olay</td>\n",
              "      <td>15618995</td>\n",
              "      <td>perfect for summers dry for winters</td>\n",
              "      <td>I have been using this product for months now....</td>\n",
              "      <td>Sanchi Gupta</td>\n",
              "      <td>2020-11-13 12:24:14</td>\n",
              "      <td>4.0</td>\n",
              "      <td>True</td>\n",
              "      <td>False</td>\n",
              "      <td>Verified Buyer</td>\n",
              "      <td>Olay Ultra Lightweight Moisturiser: Luminous W...</td>\n",
              "      <td>1999</td>\n",
              "      <td>1599</td>\n",
              "      <td>4.1</td>\n",
              "      <td>43</td>\n",
              "      <td>NaN</td>\n",
              "      <td>https://www.nykaa.com/olay-ultra-lightweight-m...</td>\n",
              "    </tr>\n",
              "    <tr>\n",
              "      <th>3</th>\n",
              "      <td>781070</td>\n",
              "      <td>Olay</td>\n",
              "      <td>13474509</td>\n",
              "      <td>Not a moisturizer</td>\n",
              "      <td>i have an oily skin, while this whip acts as a...</td>\n",
              "      <td>Ruchi Shah</td>\n",
              "      <td>2020-06-14 11:56:50</td>\n",
              "      <td>3.0</td>\n",
              "      <td>True</td>\n",
              "      <td>False</td>\n",
              "      <td>Verified Buyer</td>\n",
              "      <td>Olay Ultra Lightweight Moisturiser: Luminous W...</td>\n",
              "      <td>1999</td>\n",
              "      <td>1599</td>\n",
              "      <td>4.1</td>\n",
              "      <td>43</td>\n",
              "      <td>NaN</td>\n",
              "      <td>https://www.nykaa.com/olay-ultra-lightweight-m...</td>\n",
              "    </tr>\n",
              "    <tr>\n",
              "      <th>4</th>\n",
              "      <td>781070</td>\n",
              "      <td>Olay</td>\n",
              "      <td>16338982</td>\n",
              "      <td>Average</td>\n",
              "      <td>It's not that good. Please refresh try for oth...</td>\n",
              "      <td>Sukanya Sarkar</td>\n",
              "      <td>2020-12-22 15:24:35</td>\n",
              "      <td>2.0</td>\n",
              "      <td>True</td>\n",
              "      <td>False</td>\n",
              "      <td>Verified Buyer</td>\n",
              "      <td>Olay Ultra Lightweight Moisturiser: Luminous W...</td>\n",
              "      <td>1999</td>\n",
              "      <td>1599</td>\n",
              "      <td>4.1</td>\n",
              "      <td>43</td>\n",
              "      <td>NaN</td>\n",
              "      <td>https://www.nykaa.com/olay-ultra-lightweight-m...</td>\n",
              "    </tr>\n",
              "  </tbody>\n",
              "</table>\n",
              "</div>\n",
              "    <div class=\"colab-df-buttons\">\n",
              "\n",
              "  <div class=\"colab-df-container\">\n",
              "    <button class=\"colab-df-convert\" onclick=\"convertToInteractive('df-0daeaba8-a0b6-4274-8f49-7650678bdb37')\"\n",
              "            title=\"Convert this dataframe to an interactive table.\"\n",
              "            style=\"display:none;\">\n",
              "\n",
              "  <svg xmlns=\"http://www.w3.org/2000/svg\" height=\"24px\" viewBox=\"0 -960 960 960\">\n",
              "    <path d=\"M120-120v-720h720v720H120Zm60-500h600v-160H180v160Zm220 220h160v-160H400v160Zm0 220h160v-160H400v160ZM180-400h160v-160H180v160Zm440 0h160v-160H620v160ZM180-180h160v-160H180v160Zm440 0h160v-160H620v160Z\"/>\n",
              "  </svg>\n",
              "    </button>\n",
              "\n",
              "  <style>\n",
              "    .colab-df-container {\n",
              "      display:flex;\n",
              "      gap: 12px;\n",
              "    }\n",
              "\n",
              "    .colab-df-convert {\n",
              "      background-color: #E8F0FE;\n",
              "      border: none;\n",
              "      border-radius: 50%;\n",
              "      cursor: pointer;\n",
              "      display: none;\n",
              "      fill: #1967D2;\n",
              "      height: 32px;\n",
              "      padding: 0 0 0 0;\n",
              "      width: 32px;\n",
              "    }\n",
              "\n",
              "    .colab-df-convert:hover {\n",
              "      background-color: #E2EBFA;\n",
              "      box-shadow: 0px 1px 2px rgba(60, 64, 67, 0.3), 0px 1px 3px 1px rgba(60, 64, 67, 0.15);\n",
              "      fill: #174EA6;\n",
              "    }\n",
              "\n",
              "    .colab-df-buttons div {\n",
              "      margin-bottom: 4px;\n",
              "    }\n",
              "\n",
              "    [theme=dark] .colab-df-convert {\n",
              "      background-color: #3B4455;\n",
              "      fill: #D2E3FC;\n",
              "    }\n",
              "\n",
              "    [theme=dark] .colab-df-convert:hover {\n",
              "      background-color: #434B5C;\n",
              "      box-shadow: 0px 1px 3px 1px rgba(0, 0, 0, 0.15);\n",
              "      filter: drop-shadow(0px 1px 2px rgba(0, 0, 0, 0.3));\n",
              "      fill: #FFFFFF;\n",
              "    }\n",
              "  </style>\n",
              "\n",
              "    <script>\n",
              "      const buttonEl =\n",
              "        document.querySelector('#df-0daeaba8-a0b6-4274-8f49-7650678bdb37 button.colab-df-convert');\n",
              "      buttonEl.style.display =\n",
              "        google.colab.kernel.accessAllowed ? 'block' : 'none';\n",
              "\n",
              "      async function convertToInteractive(key) {\n",
              "        const element = document.querySelector('#df-0daeaba8-a0b6-4274-8f49-7650678bdb37');\n",
              "        const dataTable =\n",
              "          await google.colab.kernel.invokeFunction('convertToInteractive',\n",
              "                                                    [key], {});\n",
              "        if (!dataTable) return;\n",
              "\n",
              "        const docLinkHtml = 'Like what you see? Visit the ' +\n",
              "          '<a target=\"_blank\" href=https://colab.research.google.com/notebooks/data_table.ipynb>data table notebook</a>'\n",
              "          + ' to learn more about interactive tables.';\n",
              "        element.innerHTML = '';\n",
              "        dataTable['output_type'] = 'display_data';\n",
              "        await google.colab.output.renderOutput(dataTable, element);\n",
              "        const docLink = document.createElement('div');\n",
              "        docLink.innerHTML = docLinkHtml;\n",
              "        element.appendChild(docLink);\n",
              "      }\n",
              "    </script>\n",
              "  </div>\n",
              "\n",
              "\n",
              "<div id=\"df-cb245b6c-5d79-4b34-a55c-86286df86bb7\">\n",
              "  <button class=\"colab-df-quickchart\" onclick=\"quickchart('df-cb245b6c-5d79-4b34-a55c-86286df86bb7')\"\n",
              "            title=\"Suggest charts\"\n",
              "            style=\"display:none;\">\n",
              "\n",
              "<svg xmlns=\"http://www.w3.org/2000/svg\" height=\"24px\"viewBox=\"0 0 24 24\"\n",
              "     width=\"24px\">\n",
              "    <g>\n",
              "        <path d=\"M19 3H5c-1.1 0-2 .9-2 2v14c0 1.1.9 2 2 2h14c1.1 0 2-.9 2-2V5c0-1.1-.9-2-2-2zM9 17H7v-7h2v7zm4 0h-2V7h2v10zm4 0h-2v-4h2v4z\"/>\n",
              "    </g>\n",
              "</svg>\n",
              "  </button>\n",
              "\n",
              "<style>\n",
              "  .colab-df-quickchart {\n",
              "      --bg-color: #E8F0FE;\n",
              "      --fill-color: #1967D2;\n",
              "      --hover-bg-color: #E2EBFA;\n",
              "      --hover-fill-color: #174EA6;\n",
              "      --disabled-fill-color: #AAA;\n",
              "      --disabled-bg-color: #DDD;\n",
              "  }\n",
              "\n",
              "  [theme=dark] .colab-df-quickchart {\n",
              "      --bg-color: #3B4455;\n",
              "      --fill-color: #D2E3FC;\n",
              "      --hover-bg-color: #434B5C;\n",
              "      --hover-fill-color: #FFFFFF;\n",
              "      --disabled-bg-color: #3B4455;\n",
              "      --disabled-fill-color: #666;\n",
              "  }\n",
              "\n",
              "  .colab-df-quickchart {\n",
              "    background-color: var(--bg-color);\n",
              "    border: none;\n",
              "    border-radius: 50%;\n",
              "    cursor: pointer;\n",
              "    display: none;\n",
              "    fill: var(--fill-color);\n",
              "    height: 32px;\n",
              "    padding: 0;\n",
              "    width: 32px;\n",
              "  }\n",
              "\n",
              "  .colab-df-quickchart:hover {\n",
              "    background-color: var(--hover-bg-color);\n",
              "    box-shadow: 0 1px 2px rgba(60, 64, 67, 0.3), 0 1px 3px 1px rgba(60, 64, 67, 0.15);\n",
              "    fill: var(--button-hover-fill-color);\n",
              "  }\n",
              "\n",
              "  .colab-df-quickchart-complete:disabled,\n",
              "  .colab-df-quickchart-complete:disabled:hover {\n",
              "    background-color: var(--disabled-bg-color);\n",
              "    fill: var(--disabled-fill-color);\n",
              "    box-shadow: none;\n",
              "  }\n",
              "\n",
              "  .colab-df-spinner {\n",
              "    border: 2px solid var(--fill-color);\n",
              "    border-color: transparent;\n",
              "    border-bottom-color: var(--fill-color);\n",
              "    animation:\n",
              "      spin 1s steps(1) infinite;\n",
              "  }\n",
              "\n",
              "  @keyframes spin {\n",
              "    0% {\n",
              "      border-color: transparent;\n",
              "      border-bottom-color: var(--fill-color);\n",
              "      border-left-color: var(--fill-color);\n",
              "    }\n",
              "    20% {\n",
              "      border-color: transparent;\n",
              "      border-left-color: var(--fill-color);\n",
              "      border-top-color: var(--fill-color);\n",
              "    }\n",
              "    30% {\n",
              "      border-color: transparent;\n",
              "      border-left-color: var(--fill-color);\n",
              "      border-top-color: var(--fill-color);\n",
              "      border-right-color: var(--fill-color);\n",
              "    }\n",
              "    40% {\n",
              "      border-color: transparent;\n",
              "      border-right-color: var(--fill-color);\n",
              "      border-top-color: var(--fill-color);\n",
              "    }\n",
              "    60% {\n",
              "      border-color: transparent;\n",
              "      border-right-color: var(--fill-color);\n",
              "    }\n",
              "    80% {\n",
              "      border-color: transparent;\n",
              "      border-right-color: var(--fill-color);\n",
              "      border-bottom-color: var(--fill-color);\n",
              "    }\n",
              "    90% {\n",
              "      border-color: transparent;\n",
              "      border-bottom-color: var(--fill-color);\n",
              "    }\n",
              "  }\n",
              "</style>\n",
              "\n",
              "  <script>\n",
              "    async function quickchart(key) {\n",
              "      const quickchartButtonEl =\n",
              "        document.querySelector('#' + key + ' button');\n",
              "      quickchartButtonEl.disabled = true;  // To prevent multiple clicks.\n",
              "      quickchartButtonEl.classList.add('colab-df-spinner');\n",
              "      try {\n",
              "        const charts = await google.colab.kernel.invokeFunction(\n",
              "            'suggestCharts', [key], {});\n",
              "      } catch (error) {\n",
              "        console.error('Error during call to suggestCharts:', error);\n",
              "      }\n",
              "      quickchartButtonEl.classList.remove('colab-df-spinner');\n",
              "      quickchartButtonEl.classList.add('colab-df-quickchart-complete');\n",
              "    }\n",
              "    (() => {\n",
              "      let quickchartButtonEl =\n",
              "        document.querySelector('#df-cb245b6c-5d79-4b34-a55c-86286df86bb7 button');\n",
              "      quickchartButtonEl.style.display =\n",
              "        google.colab.kernel.accessAllowed ? 'block' : 'none';\n",
              "    })();\n",
              "  </script>\n",
              "</div>\n",
              "\n",
              "    </div>\n",
              "  </div>\n"
            ],
            "application/vnd.google.colaboratory.intrinsic+json": {
              "type": "dataframe",
              "variable_name": "nyka_copy",
              "summary": "{\n  \"name\": \"nyka_copy\",\n  \"rows\": 61284,\n  \"fields\": [\n    {\n      \"column\": \"product_id\",\n      \"properties\": {\n        \"dtype\": \"number\",\n        \"std\": 1281418,\n        \"min\": 250,\n        \"max\": 7749427,\n        \"num_unique_values\": 295,\n        \"samples\": [\n          4719645,\n          1181100,\n          564441\n        ],\n        \"semantic_type\": \"\",\n        \"description\": \"\"\n      }\n    },\n    {\n      \"column\": \"brand_name\",\n      \"properties\": {\n        \"dtype\": \"category\",\n        \"num_unique_values\": 11,\n        \"samples\": [\n          \"Maybelline New York\",\n          \"Olay\",\n          \"Herbal Essences\"\n        ],\n        \"semantic_type\": \"\",\n        \"description\": \"\"\n      }\n    },\n    {\n      \"column\": \"review_id\",\n      \"properties\": {\n        \"dtype\": \"number\",\n        \"std\": 7383506,\n        \"min\": 96,\n        \"max\": 29630308,\n        \"num_unique_values\": 61284,\n        \"samples\": [\n          21482666,\n          13955613,\n          26663193\n        ],\n        \"semantic_type\": \"\",\n        \"description\": \"\"\n      }\n    },\n    {\n      \"column\": \"review_title\",\n      \"properties\": {\n        \"dtype\": \"category\",\n        \"num_unique_values\": 29559,\n        \"samples\": [\n          \"So good effect\",\n          \"Worst and low quality product\",\n          \"Nykaa oh my brow eyebrows\"\n        ],\n        \"semantic_type\": \"\",\n        \"description\": \"\"\n      }\n    },\n    {\n      \"column\": \"review_text\",\n      \"properties\": {\n        \"dtype\": \"string\",\n        \"num_unique_values\": 59831,\n        \"samples\": [\n          \"The shade of the contour is very light, i like the highlight but not the contour .if you want a dewy base then after priming first apply this and blend , apply foundation lightly and then you may once again apply this light handed and blend it in It'll give you a naturally glowing look\",\n          \"Its has the best color and the best moisture. I had bought 5 lipsticks cannot stop using it\",\n          \"A must have product\"\n        ],\n        \"semantic_type\": \"\",\n        \"description\": \"\"\n      }\n    },\n    {\n      \"column\": \"author\",\n      \"properties\": {\n        \"dtype\": \"string\",\n        \"num_unique_values\": 41669,\n        \"samples\": [\n          \"Farheen Khader\",\n          \"Khyati Goswami\",\n          \"nimisha rastogi\"\n        ],\n        \"semantic_type\": \"\",\n        \"description\": \"\"\n      }\n    },\n    {\n      \"column\": \"review_date\",\n      \"properties\": {\n        \"dtype\": \"object\",\n        \"num_unique_values\": 61212,\n        \"samples\": [\n          \"2020-06-25 16:12:53\",\n          \"2022-06-12 20:41:54\",\n          \"2021-10-20 23:21:44\"\n        ],\n        \"semantic_type\": \"\",\n        \"description\": \"\"\n      }\n    },\n    {\n      \"column\": \"review_rating\",\n      \"properties\": {\n        \"dtype\": \"number\",\n        \"std\": 1.0625465257445987,\n        \"min\": 1.0,\n        \"max\": 5.0,\n        \"num_unique_values\": 5,\n        \"samples\": [\n          4.0,\n          1.0,\n          3.0\n        ],\n        \"semantic_type\": \"\",\n        \"description\": \"\"\n      }\n    },\n    {\n      \"column\": \"is_a_buyer\",\n      \"properties\": {\n        \"dtype\": \"boolean\",\n        \"num_unique_values\": 2,\n        \"samples\": [\n          false,\n          true\n        ],\n        \"semantic_type\": \"\",\n        \"description\": \"\"\n      }\n    },\n    {\n      \"column\": \"pro_user\",\n      \"properties\": {\n        \"dtype\": \"boolean\",\n        \"num_unique_values\": 2,\n        \"samples\": [\n          true,\n          false\n        ],\n        \"semantic_type\": \"\",\n        \"description\": \"\"\n      }\n    },\n    {\n      \"column\": \"review_label\",\n      \"properties\": {\n        \"dtype\": \"category\",\n        \"num_unique_values\": 2,\n        \"samples\": [\n          \"Verified Professional\",\n          \"Verified Buyer\"\n        ],\n        \"semantic_type\": \"\",\n        \"description\": \"\"\n      }\n    },\n    {\n      \"column\": \"product_title\",\n      \"properties\": {\n        \"dtype\": \"category\",\n        \"num_unique_values\": 292,\n        \"samples\": [\n          \"Nykaa Lash Talk False Eyelash\",\n          \"Kay Beauty Eyeshadow Palette\"\n        ],\n        \"semantic_type\": \"\",\n        \"description\": \"\"\n      }\n    },\n    {\n      \"column\": \"mrp\",\n      \"properties\": {\n        \"dtype\": \"number\",\n        \"std\": 324,\n        \"min\": 75,\n        \"max\": 3874,\n        \"num_unique_values\": 133,\n        \"samples\": [\n          625,\n          349\n        ],\n        \"semantic_type\": \"\",\n        \"description\": \"\"\n      }\n    },\n    {\n      \"column\": \"price\",\n      \"properties\": {\n        \"dtype\": \"number\",\n        \"std\": 264,\n        \"min\": 45,\n        \"max\": 2947,\n        \"num_unique_values\": 175,\n        \"samples\": [\n          356,\n          990\n        ],\n        \"semantic_type\": \"\",\n        \"description\": \"\"\n      }\n    },\n    {\n      \"column\": \"product_rating\",\n      \"properties\": {\n        \"dtype\": \"number\",\n        \"std\": 0.23594487541520212,\n        \"min\": 1.5,\n        \"max\": 4.8,\n        \"num_unique_values\": 22,\n        \"samples\": [\n          4.1,\n          4.4\n        ],\n        \"semantic_type\": \"\",\n        \"description\": \"\"\n      }\n    },\n    {\n      \"column\": \"product_rating_count\",\n      \"properties\": {\n        \"dtype\": \"number\",\n        \"std\": 14463,\n        \"min\": 1,\n        \"max\": 98477,\n        \"num_unique_values\": 227,\n        \"samples\": [\n          8212,\n          763\n        ],\n        \"semantic_type\": \"\",\n        \"description\": \"\"\n      }\n    },\n    {\n      \"column\": \"product_tags\",\n      \"properties\": {\n        \"dtype\": \"category\",\n        \"num_unique_values\": 5,\n        \"samples\": [\n          \"BESTSELLER\",\n          \"FEATURED, NEW\"\n        ],\n        \"semantic_type\": \"\",\n        \"description\": \"\"\n      }\n    },\n    {\n      \"column\": \"product_url\",\n      \"properties\": {\n        \"dtype\": \"category\",\n        \"num_unique_values\": 295,\n        \"samples\": [\n          \"https://www.nykaa.com/herbal-essences-strawberry-shampoo-conditioner-for-voluminous-hair-no-parabens-no-colourants/p/4719645\",\n          \"https://www.nykaa.com/nykaa-serial-kisser-strawberry-raspberry-lip-balm-combo/p/1181100\"\n        ],\n        \"semantic_type\": \"\",\n        \"description\": \"\"\n      }\n    }\n  ]\n}"
            }
          },
          "metadata": {},
          "execution_count": 19
        }
      ]
    },
    {
      "cell_type": "code",
      "source": [
        "# REMOVE SOME UNWANTED COLUMNS\n",
        "\n",
        "nyka_copy.drop(['review_id','review_title','author','pro_user','product_url','product_tags'],axis=1,inplace=True)\n",
        "nyka_copy.head()"
      ],
      "metadata": {
        "colab": {
          "base_uri": "https://localhost:8080/",
          "height": 504
        },
        "id": "6CHye6FGk4Hy",
        "outputId": "aee8a6d2-c98e-4070-9899-8adb2d1b1681"
      },
      "execution_count": null,
      "outputs": [
        {
          "output_type": "execute_result",
          "data": {
            "text/plain": [
              "   product_id brand_name                                        review_text  \\\n",
              "0      781070       Olay  Works as it claims. Could see the difference f...   \n",
              "1      781070       Olay  It does what it claims . Best thing is it smoo...   \n",
              "2      781070       Olay  I have been using this product for months now....   \n",
              "3      781070       Olay  i have an oily skin, while this whip acts as a...   \n",
              "4      781070       Olay  It's not that good. Please refresh try for oth...   \n",
              "\n",
              "           review_date  review_rating  is_a_buyer    review_label  \\\n",
              "0  2021-01-23 15:17:18            5.0        True  Verified Buyer   \n",
              "1  2020-09-07 15:30:42            5.0        True  Verified Buyer   \n",
              "2  2020-11-13 12:24:14            4.0        True  Verified Buyer   \n",
              "3  2020-06-14 11:56:50            3.0        True  Verified Buyer   \n",
              "4  2020-12-22 15:24:35            2.0        True  Verified Buyer   \n",
              "\n",
              "                                       product_title   mrp  price  \\\n",
              "0  Olay Ultra Lightweight Moisturiser: Luminous W...  1999   1599   \n",
              "1  Olay Ultra Lightweight Moisturiser: Luminous W...  1999   1599   \n",
              "2  Olay Ultra Lightweight Moisturiser: Luminous W...  1999   1599   \n",
              "3  Olay Ultra Lightweight Moisturiser: Luminous W...  1999   1599   \n",
              "4  Olay Ultra Lightweight Moisturiser: Luminous W...  1999   1599   \n",
              "\n",
              "   product_rating  product_rating_count  \n",
              "0             4.1                    43  \n",
              "1             4.1                    43  \n",
              "2             4.1                    43  \n",
              "3             4.1                    43  \n",
              "4             4.1                    43  "
            ],
            "text/html": [
              "\n",
              "  <div id=\"df-8b6b720c-4518-4d38-8f9b-e3dd5e6ec8a1\" class=\"colab-df-container\">\n",
              "    <div>\n",
              "<style scoped>\n",
              "    .dataframe tbody tr th:only-of-type {\n",
              "        vertical-align: middle;\n",
              "    }\n",
              "\n",
              "    .dataframe tbody tr th {\n",
              "        vertical-align: top;\n",
              "    }\n",
              "\n",
              "    .dataframe thead th {\n",
              "        text-align: right;\n",
              "    }\n",
              "</style>\n",
              "<table border=\"1\" class=\"dataframe\">\n",
              "  <thead>\n",
              "    <tr style=\"text-align: right;\">\n",
              "      <th></th>\n",
              "      <th>product_id</th>\n",
              "      <th>brand_name</th>\n",
              "      <th>review_text</th>\n",
              "      <th>review_date</th>\n",
              "      <th>review_rating</th>\n",
              "      <th>is_a_buyer</th>\n",
              "      <th>review_label</th>\n",
              "      <th>product_title</th>\n",
              "      <th>mrp</th>\n",
              "      <th>price</th>\n",
              "      <th>product_rating</th>\n",
              "      <th>product_rating_count</th>\n",
              "    </tr>\n",
              "  </thead>\n",
              "  <tbody>\n",
              "    <tr>\n",
              "      <th>0</th>\n",
              "      <td>781070</td>\n",
              "      <td>Olay</td>\n",
              "      <td>Works as it claims. Could see the difference f...</td>\n",
              "      <td>2021-01-23 15:17:18</td>\n",
              "      <td>5.0</td>\n",
              "      <td>True</td>\n",
              "      <td>Verified Buyer</td>\n",
              "      <td>Olay Ultra Lightweight Moisturiser: Luminous W...</td>\n",
              "      <td>1999</td>\n",
              "      <td>1599</td>\n",
              "      <td>4.1</td>\n",
              "      <td>43</td>\n",
              "    </tr>\n",
              "    <tr>\n",
              "      <th>1</th>\n",
              "      <td>781070</td>\n",
              "      <td>Olay</td>\n",
              "      <td>It does what it claims . Best thing is it smoo...</td>\n",
              "      <td>2020-09-07 15:30:42</td>\n",
              "      <td>5.0</td>\n",
              "      <td>True</td>\n",
              "      <td>Verified Buyer</td>\n",
              "      <td>Olay Ultra Lightweight Moisturiser: Luminous W...</td>\n",
              "      <td>1999</td>\n",
              "      <td>1599</td>\n",
              "      <td>4.1</td>\n",
              "      <td>43</td>\n",
              "    </tr>\n",
              "    <tr>\n",
              "      <th>2</th>\n",
              "      <td>781070</td>\n",
              "      <td>Olay</td>\n",
              "      <td>I have been using this product for months now....</td>\n",
              "      <td>2020-11-13 12:24:14</td>\n",
              "      <td>4.0</td>\n",
              "      <td>True</td>\n",
              "      <td>Verified Buyer</td>\n",
              "      <td>Olay Ultra Lightweight Moisturiser: Luminous W...</td>\n",
              "      <td>1999</td>\n",
              "      <td>1599</td>\n",
              "      <td>4.1</td>\n",
              "      <td>43</td>\n",
              "    </tr>\n",
              "    <tr>\n",
              "      <th>3</th>\n",
              "      <td>781070</td>\n",
              "      <td>Olay</td>\n",
              "      <td>i have an oily skin, while this whip acts as a...</td>\n",
              "      <td>2020-06-14 11:56:50</td>\n",
              "      <td>3.0</td>\n",
              "      <td>True</td>\n",
              "      <td>Verified Buyer</td>\n",
              "      <td>Olay Ultra Lightweight Moisturiser: Luminous W...</td>\n",
              "      <td>1999</td>\n",
              "      <td>1599</td>\n",
              "      <td>4.1</td>\n",
              "      <td>43</td>\n",
              "    </tr>\n",
              "    <tr>\n",
              "      <th>4</th>\n",
              "      <td>781070</td>\n",
              "      <td>Olay</td>\n",
              "      <td>It's not that good. Please refresh try for oth...</td>\n",
              "      <td>2020-12-22 15:24:35</td>\n",
              "      <td>2.0</td>\n",
              "      <td>True</td>\n",
              "      <td>Verified Buyer</td>\n",
              "      <td>Olay Ultra Lightweight Moisturiser: Luminous W...</td>\n",
              "      <td>1999</td>\n",
              "      <td>1599</td>\n",
              "      <td>4.1</td>\n",
              "      <td>43</td>\n",
              "    </tr>\n",
              "  </tbody>\n",
              "</table>\n",
              "</div>\n",
              "    <div class=\"colab-df-buttons\">\n",
              "\n",
              "  <div class=\"colab-df-container\">\n",
              "    <button class=\"colab-df-convert\" onclick=\"convertToInteractive('df-8b6b720c-4518-4d38-8f9b-e3dd5e6ec8a1')\"\n",
              "            title=\"Convert this dataframe to an interactive table.\"\n",
              "            style=\"display:none;\">\n",
              "\n",
              "  <svg xmlns=\"http://www.w3.org/2000/svg\" height=\"24px\" viewBox=\"0 -960 960 960\">\n",
              "    <path d=\"M120-120v-720h720v720H120Zm60-500h600v-160H180v160Zm220 220h160v-160H400v160Zm0 220h160v-160H400v160ZM180-400h160v-160H180v160Zm440 0h160v-160H620v160ZM180-180h160v-160H180v160Zm440 0h160v-160H620v160Z\"/>\n",
              "  </svg>\n",
              "    </button>\n",
              "\n",
              "  <style>\n",
              "    .colab-df-container {\n",
              "      display:flex;\n",
              "      gap: 12px;\n",
              "    }\n",
              "\n",
              "    .colab-df-convert {\n",
              "      background-color: #E8F0FE;\n",
              "      border: none;\n",
              "      border-radius: 50%;\n",
              "      cursor: pointer;\n",
              "      display: none;\n",
              "      fill: #1967D2;\n",
              "      height: 32px;\n",
              "      padding: 0 0 0 0;\n",
              "      width: 32px;\n",
              "    }\n",
              "\n",
              "    .colab-df-convert:hover {\n",
              "      background-color: #E2EBFA;\n",
              "      box-shadow: 0px 1px 2px rgba(60, 64, 67, 0.3), 0px 1px 3px 1px rgba(60, 64, 67, 0.15);\n",
              "      fill: #174EA6;\n",
              "    }\n",
              "\n",
              "    .colab-df-buttons div {\n",
              "      margin-bottom: 4px;\n",
              "    }\n",
              "\n",
              "    [theme=dark] .colab-df-convert {\n",
              "      background-color: #3B4455;\n",
              "      fill: #D2E3FC;\n",
              "    }\n",
              "\n",
              "    [theme=dark] .colab-df-convert:hover {\n",
              "      background-color: #434B5C;\n",
              "      box-shadow: 0px 1px 3px 1px rgba(0, 0, 0, 0.15);\n",
              "      filter: drop-shadow(0px 1px 2px rgba(0, 0, 0, 0.3));\n",
              "      fill: #FFFFFF;\n",
              "    }\n",
              "  </style>\n",
              "\n",
              "    <script>\n",
              "      const buttonEl =\n",
              "        document.querySelector('#df-8b6b720c-4518-4d38-8f9b-e3dd5e6ec8a1 button.colab-df-convert');\n",
              "      buttonEl.style.display =\n",
              "        google.colab.kernel.accessAllowed ? 'block' : 'none';\n",
              "\n",
              "      async function convertToInteractive(key) {\n",
              "        const element = document.querySelector('#df-8b6b720c-4518-4d38-8f9b-e3dd5e6ec8a1');\n",
              "        const dataTable =\n",
              "          await google.colab.kernel.invokeFunction('convertToInteractive',\n",
              "                                                    [key], {});\n",
              "        if (!dataTable) return;\n",
              "\n",
              "        const docLinkHtml = 'Like what you see? Visit the ' +\n",
              "          '<a target=\"_blank\" href=https://colab.research.google.com/notebooks/data_table.ipynb>data table notebook</a>'\n",
              "          + ' to learn more about interactive tables.';\n",
              "        element.innerHTML = '';\n",
              "        dataTable['output_type'] = 'display_data';\n",
              "        await google.colab.output.renderOutput(dataTable, element);\n",
              "        const docLink = document.createElement('div');\n",
              "        docLink.innerHTML = docLinkHtml;\n",
              "        element.appendChild(docLink);\n",
              "      }\n",
              "    </script>\n",
              "  </div>\n",
              "\n",
              "\n",
              "<div id=\"df-a716c6a9-b6bc-4fda-832b-63f7e5288a38\">\n",
              "  <button class=\"colab-df-quickchart\" onclick=\"quickchart('df-a716c6a9-b6bc-4fda-832b-63f7e5288a38')\"\n",
              "            title=\"Suggest charts\"\n",
              "            style=\"display:none;\">\n",
              "\n",
              "<svg xmlns=\"http://www.w3.org/2000/svg\" height=\"24px\"viewBox=\"0 0 24 24\"\n",
              "     width=\"24px\">\n",
              "    <g>\n",
              "        <path d=\"M19 3H5c-1.1 0-2 .9-2 2v14c0 1.1.9 2 2 2h14c1.1 0 2-.9 2-2V5c0-1.1-.9-2-2-2zM9 17H7v-7h2v7zm4 0h-2V7h2v10zm4 0h-2v-4h2v4z\"/>\n",
              "    </g>\n",
              "</svg>\n",
              "  </button>\n",
              "\n",
              "<style>\n",
              "  .colab-df-quickchart {\n",
              "      --bg-color: #E8F0FE;\n",
              "      --fill-color: #1967D2;\n",
              "      --hover-bg-color: #E2EBFA;\n",
              "      --hover-fill-color: #174EA6;\n",
              "      --disabled-fill-color: #AAA;\n",
              "      --disabled-bg-color: #DDD;\n",
              "  }\n",
              "\n",
              "  [theme=dark] .colab-df-quickchart {\n",
              "      --bg-color: #3B4455;\n",
              "      --fill-color: #D2E3FC;\n",
              "      --hover-bg-color: #434B5C;\n",
              "      --hover-fill-color: #FFFFFF;\n",
              "      --disabled-bg-color: #3B4455;\n",
              "      --disabled-fill-color: #666;\n",
              "  }\n",
              "\n",
              "  .colab-df-quickchart {\n",
              "    background-color: var(--bg-color);\n",
              "    border: none;\n",
              "    border-radius: 50%;\n",
              "    cursor: pointer;\n",
              "    display: none;\n",
              "    fill: var(--fill-color);\n",
              "    height: 32px;\n",
              "    padding: 0;\n",
              "    width: 32px;\n",
              "  }\n",
              "\n",
              "  .colab-df-quickchart:hover {\n",
              "    background-color: var(--hover-bg-color);\n",
              "    box-shadow: 0 1px 2px rgba(60, 64, 67, 0.3), 0 1px 3px 1px rgba(60, 64, 67, 0.15);\n",
              "    fill: var(--button-hover-fill-color);\n",
              "  }\n",
              "\n",
              "  .colab-df-quickchart-complete:disabled,\n",
              "  .colab-df-quickchart-complete:disabled:hover {\n",
              "    background-color: var(--disabled-bg-color);\n",
              "    fill: var(--disabled-fill-color);\n",
              "    box-shadow: none;\n",
              "  }\n",
              "\n",
              "  .colab-df-spinner {\n",
              "    border: 2px solid var(--fill-color);\n",
              "    border-color: transparent;\n",
              "    border-bottom-color: var(--fill-color);\n",
              "    animation:\n",
              "      spin 1s steps(1) infinite;\n",
              "  }\n",
              "\n",
              "  @keyframes spin {\n",
              "    0% {\n",
              "      border-color: transparent;\n",
              "      border-bottom-color: var(--fill-color);\n",
              "      border-left-color: var(--fill-color);\n",
              "    }\n",
              "    20% {\n",
              "      border-color: transparent;\n",
              "      border-left-color: var(--fill-color);\n",
              "      border-top-color: var(--fill-color);\n",
              "    }\n",
              "    30% {\n",
              "      border-color: transparent;\n",
              "      border-left-color: var(--fill-color);\n",
              "      border-top-color: var(--fill-color);\n",
              "      border-right-color: var(--fill-color);\n",
              "    }\n",
              "    40% {\n",
              "      border-color: transparent;\n",
              "      border-right-color: var(--fill-color);\n",
              "      border-top-color: var(--fill-color);\n",
              "    }\n",
              "    60% {\n",
              "      border-color: transparent;\n",
              "      border-right-color: var(--fill-color);\n",
              "    }\n",
              "    80% {\n",
              "      border-color: transparent;\n",
              "      border-right-color: var(--fill-color);\n",
              "      border-bottom-color: var(--fill-color);\n",
              "    }\n",
              "    90% {\n",
              "      border-color: transparent;\n",
              "      border-bottom-color: var(--fill-color);\n",
              "    }\n",
              "  }\n",
              "</style>\n",
              "\n",
              "  <script>\n",
              "    async function quickchart(key) {\n",
              "      const quickchartButtonEl =\n",
              "        document.querySelector('#' + key + ' button');\n",
              "      quickchartButtonEl.disabled = true;  // To prevent multiple clicks.\n",
              "      quickchartButtonEl.classList.add('colab-df-spinner');\n",
              "      try {\n",
              "        const charts = await google.colab.kernel.invokeFunction(\n",
              "            'suggestCharts', [key], {});\n",
              "      } catch (error) {\n",
              "        console.error('Error during call to suggestCharts:', error);\n",
              "      }\n",
              "      quickchartButtonEl.classList.remove('colab-df-spinner');\n",
              "      quickchartButtonEl.classList.add('colab-df-quickchart-complete');\n",
              "    }\n",
              "    (() => {\n",
              "      let quickchartButtonEl =\n",
              "        document.querySelector('#df-a716c6a9-b6bc-4fda-832b-63f7e5288a38 button');\n",
              "      quickchartButtonEl.style.display =\n",
              "        google.colab.kernel.accessAllowed ? 'block' : 'none';\n",
              "    })();\n",
              "  </script>\n",
              "</div>\n",
              "\n",
              "    </div>\n",
              "  </div>\n"
            ],
            "application/vnd.google.colaboratory.intrinsic+json": {
              "type": "dataframe",
              "variable_name": "nyka_copy",
              "summary": "{\n  \"name\": \"nyka_copy\",\n  \"rows\": 61284,\n  \"fields\": [\n    {\n      \"column\": \"product_id\",\n      \"properties\": {\n        \"dtype\": \"number\",\n        \"std\": 1281418,\n        \"min\": 250,\n        \"max\": 7749427,\n        \"num_unique_values\": 295,\n        \"samples\": [\n          4719645,\n          1181100,\n          564441\n        ],\n        \"semantic_type\": \"\",\n        \"description\": \"\"\n      }\n    },\n    {\n      \"column\": \"brand_name\",\n      \"properties\": {\n        \"dtype\": \"category\",\n        \"num_unique_values\": 11,\n        \"samples\": [\n          \"Maybelline New York\",\n          \"Olay\",\n          \"Herbal Essences\"\n        ],\n        \"semantic_type\": \"\",\n        \"description\": \"\"\n      }\n    },\n    {\n      \"column\": \"review_text\",\n      \"properties\": {\n        \"dtype\": \"string\",\n        \"num_unique_values\": 59831,\n        \"samples\": [\n          \"The shade of the contour is very light, i like the highlight but not the contour .if you want a dewy base then after priming first apply this and blend , apply foundation lightly and then you may once again apply this light handed and blend it in It'll give you a naturally glowing look\",\n          \"Its has the best color and the best moisture. I had bought 5 lipsticks cannot stop using it\",\n          \"A must have product\"\n        ],\n        \"semantic_type\": \"\",\n        \"description\": \"\"\n      }\n    },\n    {\n      \"column\": \"review_date\",\n      \"properties\": {\n        \"dtype\": \"object\",\n        \"num_unique_values\": 61212,\n        \"samples\": [\n          \"2020-06-25 16:12:53\",\n          \"2022-06-12 20:41:54\",\n          \"2021-10-20 23:21:44\"\n        ],\n        \"semantic_type\": \"\",\n        \"description\": \"\"\n      }\n    },\n    {\n      \"column\": \"review_rating\",\n      \"properties\": {\n        \"dtype\": \"number\",\n        \"std\": 1.0625465257445987,\n        \"min\": 1.0,\n        \"max\": 5.0,\n        \"num_unique_values\": 5,\n        \"samples\": [\n          4.0,\n          1.0,\n          3.0\n        ],\n        \"semantic_type\": \"\",\n        \"description\": \"\"\n      }\n    },\n    {\n      \"column\": \"is_a_buyer\",\n      \"properties\": {\n        \"dtype\": \"boolean\",\n        \"num_unique_values\": 2,\n        \"samples\": [\n          false,\n          true\n        ],\n        \"semantic_type\": \"\",\n        \"description\": \"\"\n      }\n    },\n    {\n      \"column\": \"review_label\",\n      \"properties\": {\n        \"dtype\": \"category\",\n        \"num_unique_values\": 2,\n        \"samples\": [\n          \"Verified Professional\",\n          \"Verified Buyer\"\n        ],\n        \"semantic_type\": \"\",\n        \"description\": \"\"\n      }\n    },\n    {\n      \"column\": \"product_title\",\n      \"properties\": {\n        \"dtype\": \"category\",\n        \"num_unique_values\": 292,\n        \"samples\": [\n          \"Nykaa Lash Talk False Eyelash\",\n          \"Kay Beauty Eyeshadow Palette\"\n        ],\n        \"semantic_type\": \"\",\n        \"description\": \"\"\n      }\n    },\n    {\n      \"column\": \"mrp\",\n      \"properties\": {\n        \"dtype\": \"number\",\n        \"std\": 324,\n        \"min\": 75,\n        \"max\": 3874,\n        \"num_unique_values\": 133,\n        \"samples\": [\n          625,\n          349\n        ],\n        \"semantic_type\": \"\",\n        \"description\": \"\"\n      }\n    },\n    {\n      \"column\": \"price\",\n      \"properties\": {\n        \"dtype\": \"number\",\n        \"std\": 264,\n        \"min\": 45,\n        \"max\": 2947,\n        \"num_unique_values\": 175,\n        \"samples\": [\n          356,\n          990\n        ],\n        \"semantic_type\": \"\",\n        \"description\": \"\"\n      }\n    },\n    {\n      \"column\": \"product_rating\",\n      \"properties\": {\n        \"dtype\": \"number\",\n        \"std\": 0.23594487541520212,\n        \"min\": 1.5,\n        \"max\": 4.8,\n        \"num_unique_values\": 22,\n        \"samples\": [\n          4.1,\n          4.4\n        ],\n        \"semantic_type\": \"\",\n        \"description\": \"\"\n      }\n    },\n    {\n      \"column\": \"product_rating_count\",\n      \"properties\": {\n        \"dtype\": \"number\",\n        \"std\": 14463,\n        \"min\": 1,\n        \"max\": 98477,\n        \"num_unique_values\": 227,\n        \"samples\": [\n          8212,\n          763\n        ],\n        \"semantic_type\": \"\",\n        \"description\": \"\"\n      }\n    }\n  ]\n}"
            }
          },
          "metadata": {},
          "execution_count": 20
        }
      ]
    },
    {
      "cell_type": "markdown",
      "source": [
        "# **⏩ REMOVE NULL VALUES**"
      ],
      "metadata": {
        "id": "22XgOiwWlyWr"
      }
    },
    {
      "cell_type": "code",
      "source": [
        "nyka_copy.isnull().sum()"
      ],
      "metadata": {
        "colab": {
          "base_uri": "https://localhost:8080/",
          "height": 460
        },
        "id": "CXfjxNDFmIkr",
        "outputId": "c9369463-0b36-46e1-d6aa-63d9376198f1"
      },
      "execution_count": null,
      "outputs": [
        {
          "output_type": "execute_result",
          "data": {
            "text/plain": [
              "product_id                  0\n",
              "brand_name                  0\n",
              "review_text                 9\n",
              "review_date                 0\n",
              "review_rating               1\n",
              "is_a_buyer                  0\n",
              "review_label            13035\n",
              "product_title               0\n",
              "mrp                         0\n",
              "price                       0\n",
              "product_rating              0\n",
              "product_rating_count        0\n",
              "dtype: int64"
            ],
            "text/html": [
              "<div>\n",
              "<style scoped>\n",
              "    .dataframe tbody tr th:only-of-type {\n",
              "        vertical-align: middle;\n",
              "    }\n",
              "\n",
              "    .dataframe tbody tr th {\n",
              "        vertical-align: top;\n",
              "    }\n",
              "\n",
              "    .dataframe thead th {\n",
              "        text-align: right;\n",
              "    }\n",
              "</style>\n",
              "<table border=\"1\" class=\"dataframe\">\n",
              "  <thead>\n",
              "    <tr style=\"text-align: right;\">\n",
              "      <th></th>\n",
              "      <th>0</th>\n",
              "    </tr>\n",
              "  </thead>\n",
              "  <tbody>\n",
              "    <tr>\n",
              "      <th>product_id</th>\n",
              "      <td>0</td>\n",
              "    </tr>\n",
              "    <tr>\n",
              "      <th>brand_name</th>\n",
              "      <td>0</td>\n",
              "    </tr>\n",
              "    <tr>\n",
              "      <th>review_text</th>\n",
              "      <td>9</td>\n",
              "    </tr>\n",
              "    <tr>\n",
              "      <th>review_date</th>\n",
              "      <td>0</td>\n",
              "    </tr>\n",
              "    <tr>\n",
              "      <th>review_rating</th>\n",
              "      <td>1</td>\n",
              "    </tr>\n",
              "    <tr>\n",
              "      <th>is_a_buyer</th>\n",
              "      <td>0</td>\n",
              "    </tr>\n",
              "    <tr>\n",
              "      <th>review_label</th>\n",
              "      <td>13035</td>\n",
              "    </tr>\n",
              "    <tr>\n",
              "      <th>product_title</th>\n",
              "      <td>0</td>\n",
              "    </tr>\n",
              "    <tr>\n",
              "      <th>mrp</th>\n",
              "      <td>0</td>\n",
              "    </tr>\n",
              "    <tr>\n",
              "      <th>price</th>\n",
              "      <td>0</td>\n",
              "    </tr>\n",
              "    <tr>\n",
              "      <th>product_rating</th>\n",
              "      <td>0</td>\n",
              "    </tr>\n",
              "    <tr>\n",
              "      <th>product_rating_count</th>\n",
              "      <td>0</td>\n",
              "    </tr>\n",
              "  </tbody>\n",
              "</table>\n",
              "</div><br><label><b>dtype:</b> int64</label>"
            ]
          },
          "metadata": {},
          "execution_count": 21
        }
      ]
    },
    {
      "cell_type": "code",
      "source": [
        "\"\"\"\n",
        "\n",
        "CONCLUSION:\n",
        "\n",
        "--> We can see null values in dataset.\n",
        "--> So we can remove a null value step by step and fill the value in the dataset.\n",
        "\n",
        "\"\"\""
      ],
      "metadata": {
        "id": "Op8txnbNmy2U",
        "colab": {
          "base_uri": "https://localhost:8080/",
          "height": 53
        },
        "outputId": "4341cc61-8e1b-4680-98d9-c7e78a54c469"
      },
      "execution_count": null,
      "outputs": [
        {
          "output_type": "execute_result",
          "data": {
            "text/plain": [
              "'\\n\\nCONCLUSION:\\n\\n--> We can see null values in dataset.\\n--> So we can remove a null value step by step and fill the value in the dataset.\\n\\n'"
            ],
            "application/vnd.google.colaboratory.intrinsic+json": {
              "type": "string"
            }
          },
          "metadata": {},
          "execution_count": 22
        }
      ]
    },
    {
      "cell_type": "code",
      "source": [
        "# [Step:1] \"review_rating\"\n",
        "# There is a \"1\" value is missing in \"review_rating\"\n",
        "# so we can find \"mean\" \"middle\" \"mode\" and after we can fill suitable value"
      ],
      "metadata": {
        "id": "rpj49iJWnSxd"
      },
      "execution_count": null,
      "outputs": []
    },
    {
      "cell_type": "code",
      "source": [
        "print(nyka_copy['review_rating'].mean())"
      ],
      "metadata": {
        "colab": {
          "base_uri": "https://localhost:8080/"
        },
        "id": "OabyGfhOqlnf",
        "outputId": "aa1fbef2-6312-4aca-b04d-d3ba226721fe"
      },
      "execution_count": null,
      "outputs": [
        {
          "output_type": "stream",
          "name": "stdout",
          "text": [
            "4.4147806079989556\n"
          ]
        }
      ]
    },
    {
      "cell_type": "code",
      "source": [
        "print(nyka_copy['review_rating'].median())"
      ],
      "metadata": {
        "colab": {
          "base_uri": "https://localhost:8080/"
        },
        "id": "wPUG6zYBq162",
        "outputId": "85333f88-c303-4567-eba1-d8510c59a3d4"
      },
      "execution_count": null,
      "outputs": [
        {
          "output_type": "stream",
          "name": "stdout",
          "text": [
            "5.0\n"
          ]
        }
      ]
    },
    {
      "cell_type": "code",
      "source": [
        "print(nyka_copy['review_rating'].mode())"
      ],
      "metadata": {
        "colab": {
          "base_uri": "https://localhost:8080/"
        },
        "id": "WwTMo-o8q5Le",
        "outputId": "d3b1147f-1ab1-43a0-ca42-c6bd30c7479e"
      },
      "execution_count": null,
      "outputs": [
        {
          "output_type": "stream",
          "name": "stdout",
          "text": [
            "0    5.0\n",
            "Name: review_rating, dtype: float64\n"
          ]
        }
      ]
    },
    {
      "cell_type": "code",
      "source": [
        "\"\"\"\n",
        "conclusion:\n",
        "--> We can see the \"mean\" \"middle\" \"mode\" and we can fill \"5.0\" value in null value\n",
        "\n",
        "\"\"\""
      ],
      "metadata": {
        "id": "atOJ1y7NrExe",
        "colab": {
          "base_uri": "https://localhost:8080/",
          "height": 36
        },
        "outputId": "3c228d97-f546-4e7a-bd97-9136f98ca6c4"
      },
      "execution_count": null,
      "outputs": [
        {
          "output_type": "execute_result",
          "data": {
            "text/plain": [
              "'\\nconclusion:\\n--> We can see the \"mean\" \"middle\" \"mode\" and we can fill \"5.0\" value in null value\\n\\n'"
            ],
            "application/vnd.google.colaboratory.intrinsic+json": {
              "type": "string"
            }
          },
          "metadata": {},
          "execution_count": 27
        }
      ]
    },
    {
      "cell_type": "code",
      "source": [
        "nyka_copy['review_rating'].fillna(5.0,inplace=True)"
      ],
      "metadata": {
        "colab": {
          "base_uri": "https://localhost:8080/"
        },
        "id": "41j7iYc5rM61",
        "outputId": "0ad02f4e-00cd-4301-ae58-6eaef00033b1"
      },
      "execution_count": null,
      "outputs": [
        {
          "output_type": "stream",
          "name": "stderr",
          "text": [
            "<ipython-input-28-6502a15a03f1>:1: FutureWarning: A value is trying to be set on a copy of a DataFrame or Series through chained assignment using an inplace method.\n",
            "The behavior will change in pandas 3.0. This inplace method will never work because the intermediate object on which we are setting values always behaves as a copy.\n",
            "\n",
            "For example, when doing 'df[col].method(value, inplace=True)', try using 'df.method({col: value}, inplace=True)' or df[col] = df[col].method(value) instead, to perform the operation inplace on the original object.\n",
            "\n",
            "\n",
            "  nyka_copy['review_rating'].fillna(5.0,inplace=True)\n"
          ]
        }
      ]
    },
    {
      "cell_type": "code",
      "source": [
        "nyka_copy.isnull().sum()"
      ],
      "metadata": {
        "colab": {
          "base_uri": "https://localhost:8080/",
          "height": 460
        },
        "id": "jisr_vNjrXnO",
        "outputId": "b23f757c-749c-4a95-89ab-999b04b64231"
      },
      "execution_count": null,
      "outputs": [
        {
          "output_type": "execute_result",
          "data": {
            "text/plain": [
              "product_id                  0\n",
              "brand_name                  0\n",
              "review_text                 9\n",
              "review_date                 0\n",
              "review_rating               0\n",
              "is_a_buyer                  0\n",
              "review_label            13035\n",
              "product_title               0\n",
              "mrp                         0\n",
              "price                       0\n",
              "product_rating              0\n",
              "product_rating_count        0\n",
              "dtype: int64"
            ],
            "text/html": [
              "<div>\n",
              "<style scoped>\n",
              "    .dataframe tbody tr th:only-of-type {\n",
              "        vertical-align: middle;\n",
              "    }\n",
              "\n",
              "    .dataframe tbody tr th {\n",
              "        vertical-align: top;\n",
              "    }\n",
              "\n",
              "    .dataframe thead th {\n",
              "        text-align: right;\n",
              "    }\n",
              "</style>\n",
              "<table border=\"1\" class=\"dataframe\">\n",
              "  <thead>\n",
              "    <tr style=\"text-align: right;\">\n",
              "      <th></th>\n",
              "      <th>0</th>\n",
              "    </tr>\n",
              "  </thead>\n",
              "  <tbody>\n",
              "    <tr>\n",
              "      <th>product_id</th>\n",
              "      <td>0</td>\n",
              "    </tr>\n",
              "    <tr>\n",
              "      <th>brand_name</th>\n",
              "      <td>0</td>\n",
              "    </tr>\n",
              "    <tr>\n",
              "      <th>review_text</th>\n",
              "      <td>9</td>\n",
              "    </tr>\n",
              "    <tr>\n",
              "      <th>review_date</th>\n",
              "      <td>0</td>\n",
              "    </tr>\n",
              "    <tr>\n",
              "      <th>review_rating</th>\n",
              "      <td>0</td>\n",
              "    </tr>\n",
              "    <tr>\n",
              "      <th>is_a_buyer</th>\n",
              "      <td>0</td>\n",
              "    </tr>\n",
              "    <tr>\n",
              "      <th>review_label</th>\n",
              "      <td>13035</td>\n",
              "    </tr>\n",
              "    <tr>\n",
              "      <th>product_title</th>\n",
              "      <td>0</td>\n",
              "    </tr>\n",
              "    <tr>\n",
              "      <th>mrp</th>\n",
              "      <td>0</td>\n",
              "    </tr>\n",
              "    <tr>\n",
              "      <th>price</th>\n",
              "      <td>0</td>\n",
              "    </tr>\n",
              "    <tr>\n",
              "      <th>product_rating</th>\n",
              "      <td>0</td>\n",
              "    </tr>\n",
              "    <tr>\n",
              "      <th>product_rating_count</th>\n",
              "      <td>0</td>\n",
              "    </tr>\n",
              "  </tbody>\n",
              "</table>\n",
              "</div><br><label><b>dtype:</b> int64</label>"
            ]
          },
          "metadata": {},
          "execution_count": 29
        }
      ]
    },
    {
      "cell_type": "code",
      "source": [
        "nyka_copy.info()"
      ],
      "metadata": {
        "colab": {
          "base_uri": "https://localhost:8080/"
        },
        "id": "eR07I_hOrtcO",
        "outputId": "754f4bfa-365b-4b9d-fbea-999ed472a20f"
      },
      "execution_count": null,
      "outputs": [
        {
          "output_type": "stream",
          "name": "stdout",
          "text": [
            "<class 'pandas.core.frame.DataFrame'>\n",
            "RangeIndex: 61284 entries, 0 to 61283\n",
            "Data columns (total 12 columns):\n",
            " #   Column                Non-Null Count  Dtype  \n",
            "---  ------                --------------  -----  \n",
            " 0   product_id            61284 non-null  int64  \n",
            " 1   brand_name            61284 non-null  object \n",
            " 2   review_text           61275 non-null  object \n",
            " 3   review_date           61284 non-null  object \n",
            " 4   review_rating         61284 non-null  float64\n",
            " 5   is_a_buyer            61284 non-null  bool   \n",
            " 6   review_label          48249 non-null  object \n",
            " 7   product_title         61284 non-null  object \n",
            " 8   mrp                   61284 non-null  int64  \n",
            " 9   price                 61284 non-null  int64  \n",
            " 10  product_rating        61284 non-null  float64\n",
            " 11  product_rating_count  61284 non-null  int64  \n",
            "dtypes: bool(1), float64(2), int64(4), object(5)\n",
            "memory usage: 5.2+ MB\n"
          ]
        }
      ]
    },
    {
      "cell_type": "code",
      "source": [
        "# [Step:2] \"review_text\t\", \"review_label\"\n",
        "# This columns have many null value but this will not affect the main analyst"
      ],
      "metadata": {
        "id": "M3tOTGv8r9pI"
      },
      "execution_count": null,
      "outputs": []
    },
    {
      "cell_type": "markdown",
      "source": [
        "# ⏩ DISTIBUTION OF DATA"
      ],
      "metadata": {
        "id": "vCoJw-111K_5"
      }
    },
    {
      "cell_type": "code",
      "source": [
        "numeric_nyka_copy = nyka_copy.select_dtypes(include=['number'])\n",
        "\n",
        "# Create KDE plot for all numeric columns\n",
        "sns.kdeplot(x=\"price\",data=nyka_copy)\n",
        "plt.subplot(x=\"product_rating\".index, y=\"product_rating\".values,color='gray') #palette='pastel MEANS COLOUR AAVSE\n",
        "# Use matplotlib.pyplot.subplot instead of sns.subplot\n",
        "plt.subplot(1, 1, 1)\n",
        "plt.title('KDE Plot for All Numeric Elements')\n",
        "plt.show()"
      ],
      "metadata": {
        "colab": {
          "base_uri": "https://localhost:8080/",
          "height": 660
        },
        "id": "xJp2azgv1nQP",
        "outputId": "0219ebb4-703e-46fa-abeb-a5fbe8cbbbf6"
      },
      "execution_count": null,
      "outputs": [
        {
          "output_type": "error",
          "ename": "AttributeError",
          "evalue": "'str' object has no attribute 'values'",
          "traceback": [
            "\u001b[0;31m---------------------------------------------------------------------------\u001b[0m",
            "\u001b[0;31mAttributeError\u001b[0m                            Traceback (most recent call last)",
            "\u001b[0;32m<ipython-input-43-bc813a767272>\u001b[0m in \u001b[0;36m<cell line: 0>\u001b[0;34m()\u001b[0m\n\u001b[1;32m      3\u001b[0m \u001b[0;31m# Create KDE plot for all numeric columns\u001b[0m\u001b[0;34m\u001b[0m\u001b[0;34m\u001b[0m\u001b[0m\n\u001b[1;32m      4\u001b[0m \u001b[0msns\u001b[0m\u001b[0;34m.\u001b[0m\u001b[0mkdeplot\u001b[0m\u001b[0;34m(\u001b[0m\u001b[0mx\u001b[0m\u001b[0;34m=\u001b[0m\u001b[0;34m\"price\"\u001b[0m\u001b[0;34m,\u001b[0m\u001b[0mdata\u001b[0m\u001b[0;34m=\u001b[0m\u001b[0mnyka_copy\u001b[0m\u001b[0;34m)\u001b[0m\u001b[0;34m\u001b[0m\u001b[0;34m\u001b[0m\u001b[0m\n\u001b[0;32m----> 5\u001b[0;31m \u001b[0mplt\u001b[0m\u001b[0;34m.\u001b[0m\u001b[0msubplot\u001b[0m\u001b[0;34m(\u001b[0m\u001b[0mx\u001b[0m\u001b[0;34m=\u001b[0m\u001b[0;34m\"product_rating\"\u001b[0m\u001b[0;34m.\u001b[0m\u001b[0mindex\u001b[0m\u001b[0;34m,\u001b[0m \u001b[0my\u001b[0m\u001b[0;34m=\u001b[0m\u001b[0;34m\"product_rating\"\u001b[0m\u001b[0;34m.\u001b[0m\u001b[0mvalues\u001b[0m\u001b[0;34m,\u001b[0m\u001b[0mcolor\u001b[0m\u001b[0;34m=\u001b[0m\u001b[0;34m'gray'\u001b[0m\u001b[0;34m)\u001b[0m \u001b[0;31m#palette='pastel MEANS COLOUR AAVSE\u001b[0m\u001b[0;34m\u001b[0m\u001b[0;34m\u001b[0m\u001b[0m\n\u001b[0m\u001b[1;32m      6\u001b[0m \u001b[0;31m# Use matplotlib.pyplot.subplot instead of sns.subplot\u001b[0m\u001b[0;34m\u001b[0m\u001b[0;34m\u001b[0m\u001b[0m\n\u001b[1;32m      7\u001b[0m \u001b[0mplt\u001b[0m\u001b[0;34m.\u001b[0m\u001b[0msubplot\u001b[0m\u001b[0;34m(\u001b[0m\u001b[0;36m1\u001b[0m\u001b[0;34m,\u001b[0m \u001b[0;36m1\u001b[0m\u001b[0;34m,\u001b[0m \u001b[0;36m1\u001b[0m\u001b[0;34m)\u001b[0m\u001b[0;34m\u001b[0m\u001b[0;34m\u001b[0m\u001b[0m\n",
            "\u001b[0;31mAttributeError\u001b[0m: 'str' object has no attribute 'values'"
          ]
        },
        {
          "output_type": "display_data",
          "data": {
            "text/plain": [
              "<Figure size 640x480 with 1 Axes>"
            ],
            "image/png": "[encoded data removed]"
          },
          "metadata": {}
        }
      ]
    },
    {
      "cell_type": "code",
      "source": [
        "numeric_nyka_copy = nyka_copy.select_dtypes(include=['number'])\n",
        "\n",
        "# Create KDE plot for all numeric columns\n",
        "sns.kdeplot(x=\"price\",data=nyka_copy)\n",
        "# Use matplotlib.pyplot.subplot instead of sns.subplot\n",
        "plt.subplot(1, 1, 1)  # Example: Create a single subplot\n",
        "plt.title('KDE Plot for All Numeric Elements')\n",
        "plt.show()"
      ],
      "metadata": {
        "colab": {
          "base_uri": "https://localhost:8080/",
          "height": 472
        },
        "id": "zWYrsLnfGWz1",
        "outputId": "b2964ff3-fa32-46aa-f609-53c56fa518c2"
      },
      "execution_count": null,
      "outputs": [
        {
          "output_type": "display_data",
          "data": {
            "text/plain": [
              "<Figure size 640x480 with 1 Axes>"
            ],
            "image/png": "[encoded data removed]"
          },
          "metadata": {}
        }
      ]
    },
    {
      "cell_type": "code",
      "source": [
        "\"\"\"\n",
        "\n",
        "CONCLUSION:\n",
        "\n",
        "-->Data is not distubute.\n",
        "-->So we can change in next step."
      ],
      "metadata": {
        "id": "SAJiFnrg3Lga"
      },
      "execution_count": null,
      "outputs": []
    },
    {
      "cell_type": "code",
      "source": [
        "# CHECK VARIANCE OF THE DATASET\n",
        "\n",
        "numeric_nyka = nyka.select_dtypes(include=np.number)\n",
        "variance = numeric_nyka.var()\n",
        "\n",
        "print(variance)\n"
      ],
      "metadata": {
        "id": "ugE9X4Qj35nd"
      },
      "execution_count": null,
      "outputs": []
    },
    {
      "cell_type": "code",
      "source": [
        "# CHECK STANDARD DEVISION OF THE DATASE\n",
        "\n",
        "standard_deviation = numeric_nyka.std()\n",
        "print(standard_deviation)\n"
      ],
      "metadata": {
        "id": "VR60fu7X5_jJ"
      },
      "execution_count": null,
      "outputs": []
    },
    {
      "cell_type": "code",
      "source": [
        "# CHECK A INTERQUARTILE RANGE\n",
        "\n",
        "Q1 = numeric_nyka.quantile(0.25)\n",
        "Q3 = numeric_nyka.quantile(0.75)\n",
        "IQR = Q3 - Q1\n",
        "print(IQR)\n"
      ],
      "metadata": {
        "id": "QXKdUeYC6swu"
      },
      "execution_count": null,
      "outputs": []
    },
    {
      "cell_type": "code",
      "source": [
        "# SKEWNESS\n",
        "\n",
        "skewness = numeric_nyka.skew()\n",
        "print(skewness)\n",
        "fig, axes = plt.subplots(1, 2, figsize=(12, 6))\n",
        "sns.histplot(numeric_nyka, ax=axes[0])\n",
        "sns.boxplot(data=numeric_nyka, ax=axes[1])\n",
        "plt.show()"
      ],
      "metadata": {
        "id": "CXN9y8ih7h4X"
      },
      "execution_count": null,
      "outputs": []
    },
    {
      "cell_type": "code",
      "source": [],
      "metadata": {
        "id": "g6nMmSSG7RsN"
      },
      "execution_count": null,
      "outputs": []
    },
    {
      "cell_type": "code",
      "source": [
        "nyka_copy"
      ],
      "metadata": {
        "id": "KApR_mVfs4Q2"
      },
      "execution_count": null,
      "outputs": []
    },
    {
      "cell_type": "markdown",
      "source": [
        "# **⏩ DATA VISULAZATION**"
      ],
      "metadata": {
        "id": "nyClOZSywtR-"
      }
    },
    {
      "cell_type": "markdown",
      "source": [
        "#  1. What is the distribution of product ratings?"
      ],
      "metadata": {
        "id": "OPXvHFX6wzqs"
      }
    },
    {
      "cell_type": "code",
      "source": [
        "print(nyka_copy[['product_title', 'product_rating']].head())\n",
        "\n",
        "# Count rating distribution\n",
        "product_rating = nyka_copy['product_rating'].value_counts().sort_index()"
      ],
      "metadata": {
        "id": "G2t1qU6Sx5e9"
      },
      "execution_count": null,
      "outputs": []
    },
    {
      "cell_type": "code",
      "source": [
        "# Visualization\n",
        "\n",
        "plt.figure(figsize=(8,5))\n",
        "sns.barplot(x=product_rating.index, y=product_rating.values,color='gray') #palette='pastel MEANS COLOUR AAVSE\n",
        "plt.title('DISTIBUTION OF PRODUCT RATINGS')\n",
        "plt.xlabel('PRODUCT_RATING')\n",
        "plt.ylabel('NUMBER OF REVIEWS')\n",
        "# plt.xticks(ticks=range(int(nyka_copy['product_rating'].min()), int(nyka_copy['product_rating'].max()) + 1))\n",
        "plt.grid(axis='y', linestyle='--', alpha=0.7)\n",
        "plt.show()"
      ],
      "metadata": {
        "id": "cl19I-0u05Cd"
      },
      "execution_count": null,
      "outputs": []
    },
    {
      "cell_type": "code",
      "source": [
        "'''\n",
        "\n",
        "CONCLUSION:\n",
        "\n",
        "The bar plot of product ratings shows how customer feedback is distributed across different rating levels.\n",
        "\n",
        "-->From the visualization, we can conclude:-\n",
        "\n",
        "Higher ratings dominate:\n",
        "--> Most products tend to receive higher ratings (typically 4 or 5 stars), indicating general customer satisfaction.\n",
        "\n",
        "Lower ratings are fewer:\n",
        "--> Ratings on the lower end (1 or 2 stars) are significantly less frequent,\n",
        "    suggesting that either poor products are rare or customers are less likely to leave low ratings.\n",
        "\n",
        "Potential bias:\n",
        "-->The skew towards higher ratings might also suggest a positive rating bias common in online reviews.\n",
        "\n",
        "'''"
      ],
      "metadata": {
        "id": "_YZWEvWTW2tv",
        "colab": {
          "base_uri": "https://localhost:8080/",
          "height": 122
        },
        "outputId": "34499ccd-65cf-4663-96c4-44b47364f081"
      },
      "execution_count": null,
      "outputs": [
        {
          "output_type": "execute_result",
          "data": {
            "text/plain": [
              "'\\n\\nCONCLUSION:\\n\\nThe bar plot of product ratings shows how customer feedback is distributed across different rating levels.\\n\\n-->From the visualization, we can conclude:-\\n\\nHigher ratings dominate:\\n--> Most products tend to receive higher ratings (typically 4 or 5 stars), indicating general customer satisfaction.\\n\\nLower ratings are fewer:\\n--> Ratings on the lower end (1 or 2 stars) are significantly less frequent,\\n    suggesting that either poor products are rare or customers are less likely to leave low ratings.\\n\\nPotential bias:\\n-->The skew towards higher ratings might also suggest a positive rating bias common in online reviews.\\n\\n'"
            ],
            "application/vnd.google.colaboratory.intrinsic+json": {
              "type": "string"
            }
          },
          "metadata": {},
          "execution_count": 40
        }
      ]
    },
    {
      "cell_type": "markdown",
      "source": [
        "# 2.Which products have the highest number of reviews?"
      ],
      "metadata": {
        "id": "4VEspZ9OewoG"
      }
    },
    {
      "cell_type": "code",
      "source": [
        "top_products = nyka_copy['product_title'].value_counts().nlargest(10)\n",
        "\n",
        "plt.figure(figsize=(12, 6))\n",
        "sns.barplot(x=top_products.values, y=top_products.index, palette='viridis')\n",
        "\n",
        "# Titles and labels\n",
        "plt.title(\"TOP 10 MOST REVIEWED PRODUCTS ON NYKAA\", fontsize=16)\n",
        "plt.xlabel(\"NUMBER OF REVIEWS\")\n",
        "plt.ylabel(\"PRODUCT NAME\")\n",
        "plt.tight_layout()\n",
        "\n",
        "# Show plot\n",
        "plt.show()"
      ],
      "metadata": {
        "id": "FuXXOaKde3al"
      },
      "execution_count": null,
      "outputs": []
    },
    {
      "cell_type": "code",
      "source": [
        "'''\n",
        "\n",
        "CONCLUSION:\n",
        "\n",
        "These products have significantly more reviews compared to others on the platform, suggesting:\n",
        "-->High popularity and trust among consumers.\n",
        "-->Likely candidates for bestsellers due to strong customer interest.\n",
        "-->Potentially effective marketing, brand visibility, or product performance, leading to higher engagement.\n",
        "-->A possible benchmark for other products in terms of features, pricing, or customer satisfaction.\n",
        "\n",
        "'''\n"
      ],
      "metadata": {
        "id": "rSd6pCjbhKcd",
        "colab": {
          "base_uri": "https://localhost:8080/",
          "height": 105
        },
        "outputId": "346db4b7-bae6-4ab9-9295-b99f11977882"
      },
      "execution_count": null,
      "outputs": [
        {
          "output_type": "execute_result",
          "data": {
            "text/plain": [
              "'\\n\\nCONCLUSION:\\n\\nThese products have significantly more reviews compared to others on the platform, suggesting:\\n-->High popularity and trust among consumers.\\n-->Likely candidates for bestsellers due to strong customer interest.\\n-->Potentially effective marketing, brand visibility, or product performance, leading to higher engagement.\\n-->A possible benchmark for other products in terms of features, pricing, or customer satisfaction.\\n\\n'"
            ],
            "application/vnd.google.colaboratory.intrinsic+json": {
              "type": "string"
            }
          },
          "metadata": {},
          "execution_count": 41
        }
      ]
    },
    {
      "cell_type": "markdown",
      "source": [
        "# 3.How have review counts changed over time?"
      ],
      "metadata": {
        "id": "adqHj13OjnuJ"
      }
    },
    {
      "cell_type": "code",
      "source": [
        "nyka_copy['review_date'] = pd.to_datetime(nyka_copy['review_date'])\n",
        "\n",
        "# Group by month and count reviews\n",
        "monthly_reviews = nyka_copy.resample('M', on='review_date').size()\n",
        "\n",
        "# Plot the trend\n",
        "plt.figure(figsize=(12, 6))\n",
        "plt.plot(monthly_reviews.index, monthly_reviews.values, marker='o', color='teal')\n",
        "\n",
        "# Labels and title\n",
        "plt.title(\"REVIEW COUNTS OVER TIME\", fontsize=16)\n",
        "plt.xlabel(\"DATE\")\n",
        "plt.ylabel(\"NUMBER OF REVIEWS\")\n",
        "plt.grid(True)\n",
        "plt.tight_layout()\n",
        "\n",
        "# Show plot\n",
        "plt.show()"
      ],
      "metadata": {
        "id": "iIFX6RG2pMkk"
      },
      "execution_count": null,
      "outputs": []
    },
    {
      "cell_type": "code",
      "source": [
        "\"\"\"\n",
        "\n",
        "CONCLUSION:\n",
        "The analysis of review counts over time reveals important trends in customer engagement on the Nykaa platform.\n",
        "\n",
        "We observed:\n",
        "-->Significant spikes in review activity during specific months,\n",
        "   which may correlate with festive seasons, sale events, or product launches (e.g., Diwali, Big Nykaa Sales).\n",
        "-->Periods of lower review activity could indicate off-season shopping months or reduced marketing push.\n",
        "-->The overall trend may show increasing engagement over time, suggesting growing customer trust,\n",
        "   rising platform popularity, or expanding product variety."
      ],
      "metadata": {
        "id": "ZsDrJ99pqV6K"
      },
      "execution_count": null,
      "outputs": []
    },
    {
      "cell_type": "markdown",
      "source": [
        "# 4.Sentiment analysis of reviews (Positive, Neutral, Negative)"
      ],
      "metadata": {
        "id": "Pcon5s7trTmR"
      }
    },
    {
      "cell_type": "code",
      "source": [
        "sentiment_counts = nyka_copy['review_label'].value_counts()\n",
        "\n",
        "plt.figure(figsize=(8, 5))\n",
        "sns.barplot(x=sentiment_counts.index, y=sentiment_counts.values, palette='Set2')\n",
        "plt.title(\"Sentiment Distribution of Reviews\")\n",
        "plt.xlabel(\"Sentiment\")\n",
        "plt.ylabel(\"Number of Reviews\")\n",
        "plt.grid(axis='y', linestyle='--', alpha=0.7)\n",
        "plt.tight_layout()\n",
        "plt.show()"
      ],
      "metadata": {
        "id": "kbaAF6wureXV"
      },
      "execution_count": null,
      "outputs": []
    },
    {
      "cell_type": "code",
      "source": [
        "sentiment_counts = nyka_copy['review_label'].value_counts()\n",
        "\n",
        "# Define colors for each sentiment\n",
        "colors = ['#66bb6a', '#ffee58', '#ef5350']  # Green for Positive, Yellow for Neutral, Red for Negative\n",
        "\n",
        "# Create pie chart\n",
        "plt.figure(figsize=(6, 6))\n",
        "plt.pie(\n",
        "    sentiment_counts.values,\n",
        "    labels=sentiment_counts.index,\n",
        "    autopct='%1.1f%%',\n",
        "    colors=colors,\n",
        "    startangle=140\n",
        ")\n",
        "\n",
        "# Title and formatting\n",
        "plt.title(\"Sentiment Analysis of Reviews\")\n",
        "plt.axis('equal')  # Makes the pie chart a circle\n",
        "plt.tight_layout()\n",
        "plt.show()"
      ],
      "metadata": {
        "id": "ir_6LHo-s5lf"
      },
      "execution_count": null,
      "outputs": []
    },
    {
      "cell_type": "code",
      "source": [
        "\"\"\"\n",
        "\n",
        "CONCLUSION:\n",
        "-->A majority of the reviews are Positive, indicating that most customers are satisfied with their purchases.\n",
        "-->A smaller portion of reviews are Neutral, reflecting an average experience without strong opinions.\n",
        "-->Negative reviews are the least common, suggesting fewer cases of customer dissatisfaction.\n",
        "-->This overall positive sentiment reflects well on the platform’s product quality and customer experience."
      ],
      "metadata": {
        "id": "b5K5pnBYtWcp"
      },
      "execution_count": null,
      "outputs": []
    },
    {
      "cell_type": "markdown",
      "source": [
        "# 💬 5. How does rating correlate with review length?"
      ],
      "metadata": {
        "id": "zJGbH2xatmd2"
      }
    },
    {
      "cell_type": "code",
      "source": [
        "nyka_copy['review_length'] = nyka_copy['review_text'].astype(str).apply(lambda x: len(x.split()))\n",
        "\n",
        "# 📊 Scatter Plot: Rating vs Review Length\n",
        "plt.figure(figsize=(10, 6))\n",
        "plt.scatter(nyka_copy['review_rating'], nyka_copy['review_length'], alpha=0.5, color='blue') # Changed df to nyka_copy and rating to review_rating\n",
        "plt.title('RATING VS REVIEW LENGTH')\n",
        "plt.xlabel('RATING')\n",
        "plt.ylabel('REVIEW LENGTH (WORDS)')\n",
        "plt.grid(True)\n",
        "plt.show()\n",
        "\n",
        "# 📦 Optional: Box Plot for distribution of lengths by rating\n",
        "plt.figure(figsize=(10, 6))\n",
        "nyka_copy.boxplot(column='review_length', by='review_rating', grid=False) # Changed df to nyka_copy and rating to review_rating\n",
        "plt.title('REVIEW LENGTH DISTIBUTION BY RATING')\n",
        "plt.suptitle('')\n",
        "plt.xlabel('RATING')\n",
        "plt.ylabel('REVIEW LENGTH (WORDS)')\n",
        "plt.show()"
      ],
      "metadata": {
        "id": "mzt6GCmZtrMW"
      },
      "execution_count": null,
      "outputs": []
    },
    {
      "cell_type": "markdown",
      "source": [
        "# 🛒 6. Are verified buyers more critical or more positive than non-verified reviewers?\n",
        "\n"
      ],
      "metadata": {
        "id": "bBNmU6LXiFG1"
      }
    },
    {
      "cell_type": "code",
      "source": [
        "plt.figure(figsize=(8, 6))\n",
        "sns.stripplot(x='product_title', y='review_rating', data=nyka_copy, color='blue', alpha=0.6, jitter=True) # Changed 'Rating' to 'review_rating'\n",
        "\n",
        "plt.title('🔍 REVIEW SCORES: VERIFIED BUYERS VS NON-VERIFIED')\n",
        "plt.xlabel('REVIEWER TYPE')\n",
        "plt.ylabel('RATING (1-5)')\n",
        "plt.ylim(1, 5.5)\n",
        "plt.show()"
      ],
      "metadata": {
        "id": "lMLrhCL_iJLi"
      },
      "execution_count": null,
      "outputs": []
    },
    {
      "cell_type": "markdown",
      "source": [
        "# 📦 7. Are complaints often about product performance, shipping, packaging, or something else?"
      ],
      "metadata": {
        "id": "Nzes0WZnky4T"
      }
    },
    {
      "cell_type": "code",
      "source": [
        "plt.figure(figsize=(9, 6))\n",
        "sns.barplot(x='product_rating_count', y='brand_name', data=nyka_copy, palette='magma')\n",
        "\n",
        "plt.title('📦 MOST COMMAN COMPLAINTS CATEGORY')\n",
        "plt.xlabel('NUMBER OF COMPLAINTS')\n",
        "plt.ylabel('COMPLAINT CATEGORY')\n",
        "plt.tight_layout()\n",
        "plt.show()\n"
      ],
      "metadata": {
        "id": "c1NBvpKYlY8g"
      },
      "execution_count": null,
      "outputs": []
    },
    {
      "cell_type": "markdown",
      "source": [
        "# 👥 8. Can we segment customers into types (e.g., \"loyal fans\", \"occasional buyers\", \"critics\") based on their review behavior?\n"
      ],
      "metadata": {
        "id": "6SyP5Ofsu4ny"
      }
    },
    {
      "cell_type": "code",
      "source": [
        "plt.figure(figsize=(10, 6))\n",
        "sns.scatterplot(data=nyka_copy, x='product_rating_count', y='product_rating', hue='is_a_buyer', palette='Set2', s=100)\n",
        "\n",
        "plt.title('👥 Customer Segmentation Based on Review Behavior')\n",
        "plt.xlabel('Number of Reviews')\n",
        "plt.ylabel('Average Rating')\n",
        "plt.grid(True)\n",
        "plt.tight_layout()\n",
        "plt.show()"
      ],
      "metadata": {
        "id": "npGQ7S-IvEzX"
      },
      "execution_count": null,
      "outputs": []
    },
    {
      "cell_type": "markdown",
      "source": [
        "# 🧴 9. How do ingredient mentions relate to satisfaction? (e.g., “hyaluronic acid”, “alcohol”, “fragrance”)"
      ],
      "metadata": {
        "id": "-985yzbZzEyP"
      }
    },
    {
      "cell_type": "code",
      "source": [
        "plt.figure(figsize=(9, 6))\n",
        "sns.histplot(x='product_title', y='product_rating', data=nyka_copy, palette='pastel')\n",
        "sns.stripplot(x='product_title', y='product_rating', data=nyka_copy, color='black', jitter=True, alpha=0.5)\n",
        "\n",
        "plt.title('🧴 Ingredient Mentions vs. Customer Satisfaction')\n",
        "plt.xlabel('Ingredient Mentioned in Review')\n",
        "plt.ylabel('Rating (1–5)')\n",
        "plt.tight_layout()\n",
        "plt.show()\n"
      ],
      "metadata": {
        "id": "yu41U3sozHRb"
      },
      "execution_count": null,
      "outputs": []
    }
  ]
}